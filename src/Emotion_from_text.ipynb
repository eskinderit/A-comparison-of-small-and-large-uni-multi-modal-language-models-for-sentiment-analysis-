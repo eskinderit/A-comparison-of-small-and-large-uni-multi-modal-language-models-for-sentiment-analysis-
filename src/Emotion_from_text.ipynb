{
  "nbformat": 4,
  "nbformat_minor": 0,
  "metadata": {
    "colab": {
      "provenance": []
    },
    "kernelspec": {
      "name": "python3",
      "display_name": "Python 3"
    },
    "language_info": {
      "name": "python"
    },
    "accelerator": "GPU",
    "gpuClass": "standard"
  },
  "cells": [
    {
      "cell_type": "code",
      "source": [
        "%%capture\n",
        "!pip install transformers\n",
        "!pip install sentencepiece"
      ],
      "metadata": {
        "id": "yx5M1s9eLBFu"
      },
      "execution_count": 1,
      "outputs": []
    },
    {
      "cell_type": "code",
      "source": [
        "import os\n",
        "from IPython.display import Audio, clear_output\n",
        "\n",
        "import tensorflow as tf\n",
        "import tensorflow.keras as ks\n",
        "import pandas as pd\n",
        "import numpy as np\n",
        "\n",
        "from sklearn.model_selection import train_test_split\n",
        "from sklearn.metrics import classification_report, f1_score\n",
        "import matplotlib.pyplot as plt\n",
        "\n",
        "import sentencepiece\n",
        "from transformers import AlbertTokenizer, TFAlbertModel\n",
        "\n",
        "seed = 42"
      ],
      "metadata": {
        "id": "RuOysxrTCv_G"
      },
      "execution_count": 34,
      "outputs": []
    },
    {
      "cell_type": "code",
      "source": [
        "print('Using TensorFlow version', tf.__version__)"
      ],
      "metadata": {
        "colab": {
          "base_uri": "https://localhost:8080/"
        },
        "id": "IxjhIFSSBrS2",
        "outputId": "fa783c1c-2342-4f74-a142-a15ace1d5f76"
      },
      "execution_count": 3,
      "outputs": [
        {
          "output_type": "stream",
          "name": "stdout",
          "text": [
            "Using TensorFlow version 2.12.0\n"
          ]
        }
      ]
    },
    {
      "cell_type": "code",
      "source": [
        "tokenizer = AlbertTokenizer.from_pretrained(\"albert-base-v2\")\n",
        "albert = TFAlbertModel.from_pretrained(\"albert-base-v2\")"
      ],
      "metadata": {
        "id": "h3wO1799K7lP"
      },
      "execution_count": null,
      "outputs": []
    },
    {
      "cell_type": "code",
      "execution_count": 7,
      "metadata": {
        "id": "fbv-tKHnBYSE"
      },
      "outputs": [],
      "source": [
        "EMO = ['Anger', 'Happiness', 'Sadness', 'Neutral', 'Frustration', 'Excited', 'Fear', 'Surprise', 'Disgust', 'Other']\n",
        "VAD = ['valence', 'activation', 'dominance']"
      ]
    },
    {
      "cell_type": "markdown",
      "source": [
        "## Preprocessing"
      ],
      "metadata": {
        "id": "jqC7rntaBzaP"
      }
    },
    {
      "cell_type": "markdown",
      "source": [
        "### Dataset download"
      ],
      "metadata": {
        "id": "mbNPVQe3Bz5G"
      }
    },
    {
      "cell_type": "code",
      "source": [
        "from google.colab import files\n",
        "\n",
        "def download_dataset_from_kaggle_to_colab():\n",
        "    files.upload()\n",
        "    !ls -lha kaggle.json\n",
        "    !pip install -q kaggle # Install kaggle API\n",
        "    !mkdir -p ~/.kaggle\n",
        "    !cp kaggle.json ~/.kaggle/\n",
        "    !chmod 600 /root/.kaggle/kaggle.json\n",
        "    !kaggle datasets download -d riccardopaolini/nlp-project-work\n",
        "    !unzip nlp-project-work.zip\n",
        "    clear_output()\n",
        "\n",
        "download_dataset_from_kaggle_to_colab()"
      ],
      "metadata": {
        "id": "Wso8-2HpBu1u"
      },
      "execution_count": 8,
      "outputs": []
    },
    {
      "cell_type": "code",
      "source": [
        "def build_IEMOCAP_dataframe():\n",
        "    folder = os.path.join(os.getcwd(), 'IEMOCAP')\n",
        "\n",
        "    conv_id = 0\n",
        "\n",
        "    df = []\n",
        "    for session in ['Session1', 'Session2', 'Session3', 'Session4', 'Session5']:\n",
        "        session_path = os.path.join(folder, session)\n",
        "        # 'dialogue' folder contains Emotions and Transcripts\n",
        "        # 'sentences' folder contains Audios\n",
        "\n",
        "        trans_folder = os.path.join(session_path, 'dialog', 'transcriptions')\n",
        "\n",
        "        for trans_name in os.listdir(trans_folder):\n",
        "            if trans_name[:2] != '._':\n",
        "                emo_path = os.path.join(session_path, 'dialog', 'EmoEvaluation', trans_name)\n",
        "                with open(os.path.join(trans_folder, trans_name), encoding='utf8') as trans_file, open(emo_path, encoding='utf8') as emo_file:\n",
        "                    conv_id += 1\n",
        "                    turn_id = 1\n",
        "                    for line in trans_file:\n",
        "                        #print(line.split('_'))\n",
        "                        audio_name, text = line.split(':')\n",
        "                        if trans_name.split('.')[0] in audio_name:\n",
        "\n",
        "                            wav_path = os.path.join(session_path, 'sentences', 'wav', trans_name.split('.')[0], audio_name.split(' ')[0] + '.wav')\n",
        "                            if not os.path.exists(wav_path):\n",
        "                                continue\n",
        "\n",
        "                            reached = False\n",
        "                            count_em = {'Anger': 0, 'Happiness': 0, 'Sadness': 0, 'Neutral': 0, 'Frustration': 0, 'Excited': 0, 'Fear': 0, 'Surprise': 0, 'Disgust': 0, 'Other': 0}\n",
        "                            for emo_line in emo_file:\n",
        "                                if audio_name.split(' ')[0] in emo_line:\n",
        "                                    emotion, vad = emo_line.split('\\t')[-2:]\n",
        "                                    vad = vad[1:-2].split(',')\n",
        "                                    reached = True\n",
        "                                elif emo_line[0] == 'C' and reached:\n",
        "                                    evaluator = emo_line.split(':')[0]\n",
        "                                    emotions = emo_line.split(':')[1].split('(')[0].split(';')\n",
        "                                    emotions = [em.strip() for em in emotions]\n",
        "                                    for em in emotions:\n",
        "                                        if em != '':\n",
        "                                            count_em[em] += 1\n",
        "                                elif reached:\n",
        "                                    emo_file.seek(0)\n",
        "                                    break\n",
        "                                        \n",
        "                            if 0 <= float(vad[0]) <= 5 and 0 <= float(vad[1]) <= 5 and 0 <= float(vad[2]) <= 5:\n",
        "                                row = {'conv_id': conv_id, \n",
        "                                        'turn_id': turn_id, \n",
        "                                        'sentence': text.strip(),\n",
        "                                        'path': wav_path,\n",
        "                                        'emotion': emotion,\n",
        "                                        'valence': float(vad[0]),\n",
        "                                        'activation': float(vad[1]),\n",
        "                                        'dominance': float(vad[2])\n",
        "                                        }\n",
        "                                \n",
        "                                df.append(dict(**row, **count_em))\n",
        "                                turn_id += 1\n",
        "\n",
        "    return pd.DataFrame(df)\n",
        "\n",
        "df = build_IEMOCAP_dataframe()\n",
        "df.head(2)"
      ],
      "metadata": {
        "colab": {
          "base_uri": "https://localhost:8080/",
          "height": 297
        },
        "id": "Q90ydtFFB4oH",
        "outputId": "e0083ae8-f57e-4897-f6c6-4418fac7e42c"
      },
      "execution_count": 9,
      "outputs": [
        {
          "output_type": "execute_result",
          "data": {
            "text/plain": [
              "   conv_id  turn_id                                     sentence  \\\n",
              "0        1        1                      What's he going to say?   \n",
              "1        1        2  Maybe we should tell him before he sees it.   \n",
              "\n",
              "                                                path emotion  valence  \\\n",
              "0  /content/IEMOCAP/Session1/sentences/wav/Ses01F...     fru      2.0   \n",
              "1  /content/IEMOCAP/Session1/sentences/wav/Ses01F...     xxx      2.0   \n",
              "\n",
              "   activation  dominance  Anger  Happiness  Sadness  Neutral  Frustration  \\\n",
              "0      2.3333     2.3333      0          0        0        0            2   \n",
              "1      2.3333     1.6667      0          0        0        1            0   \n",
              "\n",
              "   Excited  Fear  Surprise  Disgust  Other  \n",
              "0        0     1         0        0      0  \n",
              "1        0     1         0        0      1  "
            ],
            "text/html": [
              "\n",
              "  <div id=\"df-df4d5161-2919-4f6e-8d98-d070702d21cc\">\n",
              "    <div class=\"colab-df-container\">\n",
              "      <div>\n",
              "<style scoped>\n",
              "    .dataframe tbody tr th:only-of-type {\n",
              "        vertical-align: middle;\n",
              "    }\n",
              "\n",
              "    .dataframe tbody tr th {\n",
              "        vertical-align: top;\n",
              "    }\n",
              "\n",
              "    .dataframe thead th {\n",
              "        text-align: right;\n",
              "    }\n",
              "</style>\n",
              "<table border=\"1\" class=\"dataframe\">\n",
              "  <thead>\n",
              "    <tr style=\"text-align: right;\">\n",
              "      <th></th>\n",
              "      <th>conv_id</th>\n",
              "      <th>turn_id</th>\n",
              "      <th>sentence</th>\n",
              "      <th>path</th>\n",
              "      <th>emotion</th>\n",
              "      <th>valence</th>\n",
              "      <th>activation</th>\n",
              "      <th>dominance</th>\n",
              "      <th>Anger</th>\n",
              "      <th>Happiness</th>\n",
              "      <th>Sadness</th>\n",
              "      <th>Neutral</th>\n",
              "      <th>Frustration</th>\n",
              "      <th>Excited</th>\n",
              "      <th>Fear</th>\n",
              "      <th>Surprise</th>\n",
              "      <th>Disgust</th>\n",
              "      <th>Other</th>\n",
              "    </tr>\n",
              "  </thead>\n",
              "  <tbody>\n",
              "    <tr>\n",
              "      <th>0</th>\n",
              "      <td>1</td>\n",
              "      <td>1</td>\n",
              "      <td>What's he going to say?</td>\n",
              "      <td>/content/IEMOCAP/Session1/sentences/wav/Ses01F...</td>\n",
              "      <td>fru</td>\n",
              "      <td>2.0</td>\n",
              "      <td>2.3333</td>\n",
              "      <td>2.3333</td>\n",
              "      <td>0</td>\n",
              "      <td>0</td>\n",
              "      <td>0</td>\n",
              "      <td>0</td>\n",
              "      <td>2</td>\n",
              "      <td>0</td>\n",
              "      <td>1</td>\n",
              "      <td>0</td>\n",
              "      <td>0</td>\n",
              "      <td>0</td>\n",
              "    </tr>\n",
              "    <tr>\n",
              "      <th>1</th>\n",
              "      <td>1</td>\n",
              "      <td>2</td>\n",
              "      <td>Maybe we should tell him before he sees it.</td>\n",
              "      <td>/content/IEMOCAP/Session1/sentences/wav/Ses01F...</td>\n",
              "      <td>xxx</td>\n",
              "      <td>2.0</td>\n",
              "      <td>2.3333</td>\n",
              "      <td>1.6667</td>\n",
              "      <td>0</td>\n",
              "      <td>0</td>\n",
              "      <td>0</td>\n",
              "      <td>1</td>\n",
              "      <td>0</td>\n",
              "      <td>0</td>\n",
              "      <td>1</td>\n",
              "      <td>0</td>\n",
              "      <td>0</td>\n",
              "      <td>1</td>\n",
              "    </tr>\n",
              "  </tbody>\n",
              "</table>\n",
              "</div>\n",
              "      <button class=\"colab-df-convert\" onclick=\"convertToInteractive('df-df4d5161-2919-4f6e-8d98-d070702d21cc')\"\n",
              "              title=\"Convert this dataframe to an interactive table.\"\n",
              "              style=\"display:none;\">\n",
              "        \n",
              "  <svg xmlns=\"http://www.w3.org/2000/svg\" height=\"24px\"viewBox=\"0 0 24 24\"\n",
              "       width=\"24px\">\n",
              "    <path d=\"M0 0h24v24H0V0z\" fill=\"none\"/>\n",
              "    <path d=\"M18.56 5.44l.94 2.06.94-2.06 2.06-.94-2.06-.94-.94-2.06-.94 2.06-2.06.94zm-11 1L8.5 8.5l.94-2.06 2.06-.94-2.06-.94L8.5 2.5l-.94 2.06-2.06.94zm10 10l.94 2.06.94-2.06 2.06-.94-2.06-.94-.94-2.06-.94 2.06-2.06.94z\"/><path d=\"M17.41 7.96l-1.37-1.37c-.4-.4-.92-.59-1.43-.59-.52 0-1.04.2-1.43.59L10.3 9.45l-7.72 7.72c-.78.78-.78 2.05 0 2.83L4 21.41c.39.39.9.59 1.41.59.51 0 1.02-.2 1.41-.59l7.78-7.78 2.81-2.81c.8-.78.8-2.07 0-2.86zM5.41 20L4 18.59l7.72-7.72 1.47 1.35L5.41 20z\"/>\n",
              "  </svg>\n",
              "      </button>\n",
              "      \n",
              "  <style>\n",
              "    .colab-df-container {\n",
              "      display:flex;\n",
              "      flex-wrap:wrap;\n",
              "      gap: 12px;\n",
              "    }\n",
              "\n",
              "    .colab-df-convert {\n",
              "      background-color: #E8F0FE;\n",
              "      border: none;\n",
              "      border-radius: 50%;\n",
              "      cursor: pointer;\n",
              "      display: none;\n",
              "      fill: #1967D2;\n",
              "      height: 32px;\n",
              "      padding: 0 0 0 0;\n",
              "      width: 32px;\n",
              "    }\n",
              "\n",
              "    .colab-df-convert:hover {\n",
              "      background-color: #E2EBFA;\n",
              "      box-shadow: 0px 1px 2px rgba(60, 64, 67, 0.3), 0px 1px 3px 1px rgba(60, 64, 67, 0.15);\n",
              "      fill: #174EA6;\n",
              "    }\n",
              "\n",
              "    [theme=dark] .colab-df-convert {\n",
              "      background-color: #3B4455;\n",
              "      fill: #D2E3FC;\n",
              "    }\n",
              "\n",
              "    [theme=dark] .colab-df-convert:hover {\n",
              "      background-color: #434B5C;\n",
              "      box-shadow: 0px 1px 3px 1px rgba(0, 0, 0, 0.15);\n",
              "      filter: drop-shadow(0px 1px 2px rgba(0, 0, 0, 0.3));\n",
              "      fill: #FFFFFF;\n",
              "    }\n",
              "  </style>\n",
              "\n",
              "      <script>\n",
              "        const buttonEl =\n",
              "          document.querySelector('#df-df4d5161-2919-4f6e-8d98-d070702d21cc button.colab-df-convert');\n",
              "        buttonEl.style.display =\n",
              "          google.colab.kernel.accessAllowed ? 'block' : 'none';\n",
              "\n",
              "        async function convertToInteractive(key) {\n",
              "          const element = document.querySelector('#df-df4d5161-2919-4f6e-8d98-d070702d21cc');\n",
              "          const dataTable =\n",
              "            await google.colab.kernel.invokeFunction('convertToInteractive',\n",
              "                                                     [key], {});\n",
              "          if (!dataTable) return;\n",
              "\n",
              "          const docLinkHtml = 'Like what you see? Visit the ' +\n",
              "            '<a target=\"_blank\" href=https://colab.research.google.com/notebooks/data_table.ipynb>data table notebook</a>'\n",
              "            + ' to learn more about interactive tables.';\n",
              "          element.innerHTML = '';\n",
              "          dataTable['output_type'] = 'display_data';\n",
              "          await google.colab.output.renderOutput(dataTable, element);\n",
              "          const docLink = document.createElement('div');\n",
              "          docLink.innerHTML = docLinkHtml;\n",
              "          element.appendChild(docLink);\n",
              "        }\n",
              "      </script>\n",
              "    </div>\n",
              "  </div>\n",
              "  "
            ]
          },
          "metadata": {},
          "execution_count": 9
        }
      ]
    },
    {
      "cell_type": "code",
      "source": [
        "def preprocess(df, tokenizer, hist_length=3):\n",
        "\n",
        "    # Store conversation HISTORY\n",
        "    history = []\n",
        "    for idx, row in df.iterrows():\n",
        "        h = ''.join([df.loc[idx-t, 'sentence'] + ' ' for t in reversed(range(1, hist_length)) if idx-t >= 0 and df.loc[idx-t, 'conv_id'] == df.loc[idx, 'conv_id']])\n",
        "        history.append(h)\n",
        "    df['history'] = history\n",
        "\n",
        "    # Prepend HISTORY to SENTENCE\n",
        "    df['conv'] = df['history'] + f' {tokenizer.sep_token} ' + df['sentence'] \n",
        "\n",
        "    # Create EMOTION distribution labels\n",
        "    df['distr'] = list(np.stack([df[col].to_numpy() for col in EMO], axis=-1) / np.expand_dims(np.sum(df.loc[:, EMO], axis=1), axis=-1))\n",
        "\n",
        "    # Create VAD labels\n",
        "    df['vad'] = list(np.stack([df[col].to_numpy() / 5 for col in VAD], axis=-1))\n",
        "\n",
        "    return df\n",
        "\n",
        "df = preprocess(df, tokenizer)\n",
        "df.head(2)"
      ],
      "metadata": {
        "colab": {
          "base_uri": "https://localhost:8080/",
          "height": 396
        },
        "id": "4Sx9fB2wE7EX",
        "outputId": "dcea506e-ddcd-4bf0-c39d-7d2e88440bc5"
      },
      "execution_count": 10,
      "outputs": [
        {
          "output_type": "execute_result",
          "data": {
            "text/plain": [
              "   conv_id  turn_id                                     sentence  \\\n",
              "0        1        1                      What's he going to say?   \n",
              "1        1        2  Maybe we should tell him before he sees it.   \n",
              "\n",
              "                                                path emotion  valence  \\\n",
              "0  /content/IEMOCAP/Session1/sentences/wav/Ses01F...     fru      2.0   \n",
              "1  /content/IEMOCAP/Session1/sentences/wav/Ses01F...     xxx      2.0   \n",
              "\n",
              "   activation  dominance  Anger  Happiness  ...  Frustration  Excited  Fear  \\\n",
              "0      2.3333     2.3333      0          0  ...            2        0     1   \n",
              "1      2.3333     1.6667      0          0  ...            0        0     1   \n",
              "\n",
              "   Surprise  Disgust  Other                   history  \\\n",
              "0         0        0      0                             \n",
              "1         0        0      1  What's he going to say?    \n",
              "\n",
              "                                                conv  \\\n",
              "0                      [SEP] What's he going to say?   \n",
              "1  What's he going to say?  [SEP] Maybe we should...   \n",
              "\n",
              "                                               distr  \\\n",
              "0  [0.0, 0.0, 0.0, 0.0, 0.6666666666666666, 0.0, ...   \n",
              "1  [0.0, 0.0, 0.0, 0.3333333333333333, 0.0, 0.0, ...   \n",
              "\n",
              "                                               vad  \n",
              "0  [0.4, 0.46665999999999996, 0.46665999999999996]  \n",
              "1              [0.4, 0.46665999999999996, 0.33334]  \n",
              "\n",
              "[2 rows x 22 columns]"
            ],
            "text/html": [
              "\n",
              "  <div id=\"df-52e41953-94d8-41a1-9a6a-3dc3caa7bb1c\">\n",
              "    <div class=\"colab-df-container\">\n",
              "      <div>\n",
              "<style scoped>\n",
              "    .dataframe tbody tr th:only-of-type {\n",
              "        vertical-align: middle;\n",
              "    }\n",
              "\n",
              "    .dataframe tbody tr th {\n",
              "        vertical-align: top;\n",
              "    }\n",
              "\n",
              "    .dataframe thead th {\n",
              "        text-align: right;\n",
              "    }\n",
              "</style>\n",
              "<table border=\"1\" class=\"dataframe\">\n",
              "  <thead>\n",
              "    <tr style=\"text-align: right;\">\n",
              "      <th></th>\n",
              "      <th>conv_id</th>\n",
              "      <th>turn_id</th>\n",
              "      <th>sentence</th>\n",
              "      <th>path</th>\n",
              "      <th>emotion</th>\n",
              "      <th>valence</th>\n",
              "      <th>activation</th>\n",
              "      <th>dominance</th>\n",
              "      <th>Anger</th>\n",
              "      <th>Happiness</th>\n",
              "      <th>...</th>\n",
              "      <th>Frustration</th>\n",
              "      <th>Excited</th>\n",
              "      <th>Fear</th>\n",
              "      <th>Surprise</th>\n",
              "      <th>Disgust</th>\n",
              "      <th>Other</th>\n",
              "      <th>history</th>\n",
              "      <th>conv</th>\n",
              "      <th>distr</th>\n",
              "      <th>vad</th>\n",
              "    </tr>\n",
              "  </thead>\n",
              "  <tbody>\n",
              "    <tr>\n",
              "      <th>0</th>\n",
              "      <td>1</td>\n",
              "      <td>1</td>\n",
              "      <td>What's he going to say?</td>\n",
              "      <td>/content/IEMOCAP/Session1/sentences/wav/Ses01F...</td>\n",
              "      <td>fru</td>\n",
              "      <td>2.0</td>\n",
              "      <td>2.3333</td>\n",
              "      <td>2.3333</td>\n",
              "      <td>0</td>\n",
              "      <td>0</td>\n",
              "      <td>...</td>\n",
              "      <td>2</td>\n",
              "      <td>0</td>\n",
              "      <td>1</td>\n",
              "      <td>0</td>\n",
              "      <td>0</td>\n",
              "      <td>0</td>\n",
              "      <td></td>\n",
              "      <td>[SEP] What's he going to say?</td>\n",
              "      <td>[0.0, 0.0, 0.0, 0.0, 0.6666666666666666, 0.0, ...</td>\n",
              "      <td>[0.4, 0.46665999999999996, 0.46665999999999996]</td>\n",
              "    </tr>\n",
              "    <tr>\n",
              "      <th>1</th>\n",
              "      <td>1</td>\n",
              "      <td>2</td>\n",
              "      <td>Maybe we should tell him before he sees it.</td>\n",
              "      <td>/content/IEMOCAP/Session1/sentences/wav/Ses01F...</td>\n",
              "      <td>xxx</td>\n",
              "      <td>2.0</td>\n",
              "      <td>2.3333</td>\n",
              "      <td>1.6667</td>\n",
              "      <td>0</td>\n",
              "      <td>0</td>\n",
              "      <td>...</td>\n",
              "      <td>0</td>\n",
              "      <td>0</td>\n",
              "      <td>1</td>\n",
              "      <td>0</td>\n",
              "      <td>0</td>\n",
              "      <td>1</td>\n",
              "      <td>What's he going to say?</td>\n",
              "      <td>What's he going to say?  [SEP] Maybe we should...</td>\n",
              "      <td>[0.0, 0.0, 0.0, 0.3333333333333333, 0.0, 0.0, ...</td>\n",
              "      <td>[0.4, 0.46665999999999996, 0.33334]</td>\n",
              "    </tr>\n",
              "  </tbody>\n",
              "</table>\n",
              "<p>2 rows × 22 columns</p>\n",
              "</div>\n",
              "      <button class=\"colab-df-convert\" onclick=\"convertToInteractive('df-52e41953-94d8-41a1-9a6a-3dc3caa7bb1c')\"\n",
              "              title=\"Convert this dataframe to an interactive table.\"\n",
              "              style=\"display:none;\">\n",
              "        \n",
              "  <svg xmlns=\"http://www.w3.org/2000/svg\" height=\"24px\"viewBox=\"0 0 24 24\"\n",
              "       width=\"24px\">\n",
              "    <path d=\"M0 0h24v24H0V0z\" fill=\"none\"/>\n",
              "    <path d=\"M18.56 5.44l.94 2.06.94-2.06 2.06-.94-2.06-.94-.94-2.06-.94 2.06-2.06.94zm-11 1L8.5 8.5l.94-2.06 2.06-.94-2.06-.94L8.5 2.5l-.94 2.06-2.06.94zm10 10l.94 2.06.94-2.06 2.06-.94-2.06-.94-.94-2.06-.94 2.06-2.06.94z\"/><path d=\"M17.41 7.96l-1.37-1.37c-.4-.4-.92-.59-1.43-.59-.52 0-1.04.2-1.43.59L10.3 9.45l-7.72 7.72c-.78.78-.78 2.05 0 2.83L4 21.41c.39.39.9.59 1.41.59.51 0 1.02-.2 1.41-.59l7.78-7.78 2.81-2.81c.8-.78.8-2.07 0-2.86zM5.41 20L4 18.59l7.72-7.72 1.47 1.35L5.41 20z\"/>\n",
              "  </svg>\n",
              "      </button>\n",
              "      \n",
              "  <style>\n",
              "    .colab-df-container {\n",
              "      display:flex;\n",
              "      flex-wrap:wrap;\n",
              "      gap: 12px;\n",
              "    }\n",
              "\n",
              "    .colab-df-convert {\n",
              "      background-color: #E8F0FE;\n",
              "      border: none;\n",
              "      border-radius: 50%;\n",
              "      cursor: pointer;\n",
              "      display: none;\n",
              "      fill: #1967D2;\n",
              "      height: 32px;\n",
              "      padding: 0 0 0 0;\n",
              "      width: 32px;\n",
              "    }\n",
              "\n",
              "    .colab-df-convert:hover {\n",
              "      background-color: #E2EBFA;\n",
              "      box-shadow: 0px 1px 2px rgba(60, 64, 67, 0.3), 0px 1px 3px 1px rgba(60, 64, 67, 0.15);\n",
              "      fill: #174EA6;\n",
              "    }\n",
              "\n",
              "    [theme=dark] .colab-df-convert {\n",
              "      background-color: #3B4455;\n",
              "      fill: #D2E3FC;\n",
              "    }\n",
              "\n",
              "    [theme=dark] .colab-df-convert:hover {\n",
              "      background-color: #434B5C;\n",
              "      box-shadow: 0px 1px 3px 1px rgba(0, 0, 0, 0.15);\n",
              "      filter: drop-shadow(0px 1px 2px rgba(0, 0, 0, 0.3));\n",
              "      fill: #FFFFFF;\n",
              "    }\n",
              "  </style>\n",
              "\n",
              "      <script>\n",
              "        const buttonEl =\n",
              "          document.querySelector('#df-52e41953-94d8-41a1-9a6a-3dc3caa7bb1c button.colab-df-convert');\n",
              "        buttonEl.style.display =\n",
              "          google.colab.kernel.accessAllowed ? 'block' : 'none';\n",
              "\n",
              "        async function convertToInteractive(key) {\n",
              "          const element = document.querySelector('#df-52e41953-94d8-41a1-9a6a-3dc3caa7bb1c');\n",
              "          const dataTable =\n",
              "            await google.colab.kernel.invokeFunction('convertToInteractive',\n",
              "                                                     [key], {});\n",
              "          if (!dataTable) return;\n",
              "\n",
              "          const docLinkHtml = 'Like what you see? Visit the ' +\n",
              "            '<a target=\"_blank\" href=https://colab.research.google.com/notebooks/data_table.ipynb>data table notebook</a>'\n",
              "            + ' to learn more about interactive tables.';\n",
              "          element.innerHTML = '';\n",
              "          dataTable['output_type'] = 'display_data';\n",
              "          await google.colab.output.renderOutput(dataTable, element);\n",
              "          const docLink = document.createElement('div');\n",
              "          docLink.innerHTML = docLinkHtml;\n",
              "          element.appendChild(docLink);\n",
              "        }\n",
              "      </script>\n",
              "    </div>\n",
              "  </div>\n",
              "  "
            ]
          },
          "metadata": {},
          "execution_count": 10
        }
      ]
    },
    {
      "cell_type": "code",
      "source": [
        "x = df['conv']\n",
        "y = df.loc[:, ['emotion', 'distr', 'vad']]\n",
        "\n",
        "x_train, x_test, y_train, y_test = train_test_split(x, y, test_size=1000, random_state=seed)\n",
        "x_train, x_val, y_train, y_val = train_test_split(x_train, y_train, test_size=1000, random_state=seed)\n",
        "\n",
        "print(f\"Number of train samples: {x_train.shape[0]}\")\n",
        "print(f\"Number of valid samples: {x_val.shape[0]}\")\n",
        "print(f\"Number of test  samples: {x_test.shape[0]}\")"
      ],
      "metadata": {
        "colab": {
          "base_uri": "https://localhost:8080/"
        },
        "id": "QU0S78OCGCJX",
        "outputId": "6d9441f3-38eb-428f-b00c-a9807fe50d75"
      },
      "execution_count": 11,
      "outputs": [
        {
          "output_type": "stream",
          "name": "stdout",
          "text": [
            "Number of train samples: 8035\n",
            "Number of valid samples: 1000\n",
            "Number of test  samples: 1000\n"
          ]
        }
      ]
    },
    {
      "cell_type": "code",
      "source": [
        "plt.figure(figsize=(10, 5))\n",
        "plt.hist([y_train['emotion'], y_val['emotion'], y_test['emotion']], label=[\"train set\", \"val set\", \"test set\"], bins=20, density=True, align='left')\n",
        "plt.legend()\n",
        "plt.show()"
      ],
      "metadata": {
        "colab": {
          "base_uri": "https://localhost:8080/",
          "height": 445
        },
        "id": "tKxEkyo2Q8Xq",
        "outputId": "85b273f7-0794-40c2-ef04-569e7f9708a3"
      },
      "execution_count": 12,
      "outputs": [
        {
          "output_type": "display_data",
          "data": {
            "text/plain": [
              "<Figure size 1000x500 with 1 Axes>"
            ],
            "image/png": "[encoded data removed]"
          },
          "metadata": {}
        }
      ]
    },
    {
      "cell_type": "code",
      "source": [
        "# Tokenize text\n",
        "x_tokens = tokenizer(\n",
        "    text = x_train.tolist(),\n",
        "    add_special_tokens=True,\n",
        "    return_token_type_ids = False,\n",
        "    return_attention_mask = True,\n",
        "    verbose = True\n",
        ")"
      ],
      "metadata": {
        "id": "D0GaCp8CPVKg"
      },
      "execution_count": 14,
      "outputs": []
    },
    {
      "cell_type": "code",
      "source": [
        "quantile = 0.95\n",
        "\n",
        "# The length of the input must be evaluated in #tokens not in #words -> I have tokenized in the cell above\n",
        "lengths = [len(x) for x in x_tokens['input_ids']] # Number of tokens\n",
        "thresh = int(np.quantile(lengths, quantile))\n",
        "\n",
        "plt.hist(lengths, bins = len(set(lengths)))\n",
        "plt.title(f\"Sentence length distribution, thresh: (quantile = {quantile} --> {thresh} tokens) \")\n",
        "plt.axvline(x = thresh, color = 'r', label = 'axvline - full height')\n",
        "plt.show()"
      ],
      "metadata": {
        "colab": {
          "base_uri": "https://localhost:8080/",
          "height": 452
        },
        "id": "8U4PeFmCPTFb",
        "outputId": "5eba75ef-390b-4f26-ba4f-7765f2359d43"
      },
      "execution_count": 15,
      "outputs": [
        {
          "output_type": "display_data",
          "data": {
            "text/plain": [
              "<Figure size 640x480 with 1 Axes>"
            ],
            "image/png": "[encoded data removed]"
          },
          "metadata": {}
        }
      ]
    },
    {
      "cell_type": "markdown",
      "source": [
        "## ALBERT"
      ],
      "metadata": {
        "id": "Qc0r845rTxJ4"
      }
    },
    {
      "cell_type": "markdown",
      "source": [
        "### Tokenization"
      ],
      "metadata": {
        "id": "i-nSkEKAT0jB"
      }
    },
    {
      "cell_type": "code",
      "source": [
        "# setting length cut-limit for the sentences\n",
        "maxlen = thresh\n",
        "\n",
        "x_train_albert = tokenizer(\n",
        "    text = x_train.tolist(),\n",
        "    add_special_tokens=True,\n",
        "    max_length = maxlen,\n",
        "    truncation = True,\n",
        "    padding = 'max_length',\n",
        "    return_tensors='tf',\n",
        "    return_token_type_ids = False,\n",
        "    return_attention_mask = True,\n",
        "    verbose = True\n",
        ")\n",
        "\n",
        "x_val_albert = tokenizer(\n",
        "    text = x_val.tolist(),\n",
        "    add_special_tokens=True,\n",
        "    max_length = maxlen,\n",
        "    truncation = True,\n",
        "    padding = 'max_length',\n",
        "    return_tensors='tf',\n",
        "    return_token_type_ids = False,\n",
        "    return_attention_mask = True,\n",
        "    verbose = True\n",
        ")\n",
        "\n",
        "x_test_albert = tokenizer(\n",
        "    text = x_test.tolist(),\n",
        "    add_special_tokens=True,\n",
        "    max_length = maxlen,\n",
        "    truncation = True,\n",
        "    padding = \"max_length\",\n",
        "    return_tensors='tf',\n",
        "    return_token_type_ids = False,\n",
        "    return_attention_mask = True,\n",
        "    verbose = True\n",
        ")"
      ],
      "metadata": {
        "id": "dZhHyiHpTw25"
      },
      "execution_count": 16,
      "outputs": []
    },
    {
      "cell_type": "markdown",
      "source": [
        "### Prepare labels"
      ],
      "metadata": {
        "id": "fO0xxLsvUC3p"
      }
    },
    {
      "cell_type": "code",
      "source": [
        "encoded_dict= {'ang':0, 'dis':1, 'exc':2, 'fea':3, 'fru':4, 'hap':5,'neu':6, 'oth':7, 'sad':8, 'sur':9, 'xxx':10}\n",
        "\n",
        "em_train = y_train['emotion'].map(encoded_dict)\n",
        "em_train = ks.utils.to_categorical(em_train)\n",
        "\n",
        "em_val = y_val['emotion'].map(encoded_dict)\n",
        "em_val = ks.utils.to_categorical(em_val)\n",
        "\n",
        "em_test = y_test['emotion'].map(encoded_dict)\n",
        "em_test = em_test\n",
        "\n",
        "\n",
        "distr_train = np.array(list(y_train['distr']))\n",
        "distr_val = np.array(list(y_val['distr']))\n",
        "distr_test = np.array(list(y_test['distr']))\n",
        "\n",
        "vad_train = np.array(list(y_train['vad']))\n",
        "vad_val = np.array(list(y_val['vad']))\n",
        "vad_test = np.array(list(y_test['vad']))"
      ],
      "metadata": {
        "id": "QGMYAFwtT9MJ"
      },
      "execution_count": 37,
      "outputs": []
    },
    {
      "cell_type": "markdown",
      "source": [
        "### Model definition"
      ],
      "metadata": {
        "id": "QDcEjRD2Ydkc"
      }
    },
    {
      "cell_type": "code",
      "source": [
        "def get_model(input_length):\n",
        "    # input\n",
        "    input_ids = ks.layers.Input(shape=(input_length,), dtype=tf.int32, name=\"input_ids\")\n",
        "    input_mask = ks.layers.Input(shape=(input_length,), dtype=tf.int32, name=\"attention_mask\")\n",
        "\n",
        "    # pretrained \n",
        "    embeddings = albert([input_ids, input_mask])[0] #(0 is the last hidden layer, 1 means pooler output)\n",
        "\n",
        "    # last layers and output\n",
        "    out = ks.layers.GlobalMaxPool1D()(embeddings)\n",
        "    out = ks.layers.Dense(64, activation='relu', activity_regularizer=ks.regularizers.L2())(out)\n",
        "    out = ks.layers.Dropout(0.2)(out)\n",
        "    out = ks.layers.Dense(32, activation = 'relu', activity_regularizer=ks.regularizers.L2())(out)\n",
        "    out = ks.layers.Dropout(0.2)(out)\n",
        "\n",
        "    y_dist = ks.layers.Dense(10, activation = 'softmax', name='dist_output')(out)\n",
        "\n",
        "    y_em = ks.layers.Dense(11, activation = 'softmax', name='em_output')(tf.concat([out, y_dist], -1))\n",
        "\n",
        "    y_vad = ks.layers.Dense(3, activation = 'linear', name='vad_output')(out)\n",
        "\n",
        "    model = ks.Model(inputs=[input_ids, input_mask], outputs = [y_em, y_vad, y_dist])\n",
        "    model.layers[2].trainable = True\n",
        "    return model\n",
        "\n",
        "model = get_model(maxlen)\n",
        "model.summary()"
      ],
      "metadata": {
        "colab": {
          "base_uri": "https://localhost:8080/"
        },
        "id": "8Zw4CRQ0YYtO",
        "outputId": "165a427b-11f3-4535-b77d-9edaa08819f6"
      },
      "execution_count": 28,
      "outputs": [
        {
          "output_type": "stream",
          "name": "stdout",
          "text": [
            "Model: \"model_2\"\n",
            "__________________________________________________________________________________________________\n",
            " Layer (type)                   Output Shape         Param #     Connected to                     \n",
            "==================================================================================================\n",
            " input_ids (InputLayer)         [(None, 101)]        0           []                               \n",
            "                                                                                                  \n",
            " attention_mask (InputLayer)    [(None, 101)]        0           []                               \n",
            "                                                                                                  \n",
            " tf_albert_model_2 (TFAlbertMod  TFBaseModelOutputWi  11683584   ['input_ids[0][0]',              \n",
            " el)                            thPooling(last_hidd               'attention_mask[0][0]']         \n",
            "                                en_state=(None, 101                                               \n",
            "                                , 768),                                                           \n",
            "                                 pooler_output=(Non                                               \n",
            "                                e, 768),                                                          \n",
            "                                 hidden_states=None                                               \n",
            "                                , attentions=None)                                                \n",
            "                                                                                                  \n",
            " global_max_pooling1d_2 (Global  (None, 768)         0           ['tf_albert_model_2[2][0]']      \n",
            " MaxPooling1D)                                                                                    \n",
            "                                                                                                  \n",
            " dense_4 (Dense)                (None, 64)           49216       ['global_max_pooling1d_2[0][0]'] \n",
            "                                                                                                  \n",
            " dropout_16 (Dropout)           (None, 64)           0           ['dense_4[0][0]']                \n",
            "                                                                                                  \n",
            " dense_5 (Dense)                (None, 32)           2080        ['dropout_16[0][0]']             \n",
            "                                                                                                  \n",
            " dropout_17 (Dropout)           (None, 32)           0           ['dense_5[0][0]']                \n",
            "                                                                                                  \n",
            " dist_output (Dense)            (None, 10)           330         ['dropout_17[0][0]']             \n",
            "                                                                                                  \n",
            " tf.concat_2 (TFOpLambda)       (None, 42)           0           ['dropout_17[0][0]',             \n",
            "                                                                  'dist_output[0][0]']            \n",
            "                                                                                                  \n",
            " em_output (Dense)              (None, 11)           473         ['tf.concat_2[0][0]']            \n",
            "                                                                                                  \n",
            " vad_output (Dense)             (None, 3)            99          ['dropout_17[0][0]']             \n",
            "                                                                                                  \n",
            "==================================================================================================\n",
            "Total params: 11,735,782\n",
            "Trainable params: 11,735,782\n",
            "Non-trainable params: 0\n",
            "__________________________________________________________________________________________________\n"
          ]
        }
      ]
    },
    {
      "cell_type": "code",
      "source": [
        "ks.utils.plot_model(model, show_shapes=True, dpi=60)"
      ],
      "metadata": {
        "colab": {
          "base_uri": "https://localhost:8080/",
          "height": 685
        },
        "id": "WCZqZNFOZ_1c",
        "outputId": "c2512eae-e9c2-4f4e-c8eb-f19b56bd6fac"
      },
      "execution_count": 19,
      "outputs": [
        {
          "output_type": "execute_result",
          "data": {
            "image/png": "[encoded data removed]",
            "text/plain": [
              "<IPython.core.display.Image object>"
            ]
          },
          "metadata": {},
          "execution_count": 19
        }
      ]
    },
    {
      "cell_type": "code",
      "source": [
        "optimizer = ks.optimizers.Adam(learning_rate = 1e-05)\n",
        "\n",
        "# Losses\n",
        "losses = {\n",
        "    \"em_output\": ks.losses.CategoricalCrossentropy(),\n",
        "    \"vad_output\": ks.losses.MeanSquaredError(),\n",
        "    \"dist_output\": ks.losses.KLDivergence()\n",
        "}\n",
        "\n",
        "lossWeights = {\"em_output\": 20.0, \"vad_output\": 1.0, \"dist_output\": 10.0}\n",
        "\n",
        "# Metrics\n",
        "metric = {\n",
        "    \"em_output\": ks.metrics.CategoricalAccuracy(name='balanced_accuracy', dtype='float32'),\n",
        "    \"vad_output\": ks.metrics.MeanSquaredError(),\n",
        "    \"dist_output\": ks.metrics.KLDivergence()}\n",
        "\n",
        "# compile the model\n",
        "model.compile(\n",
        "    optimizer = optimizer,\n",
        "    loss = losses,\n",
        "    metrics = metric,\n",
        "    loss_weights = lossWeights,\n",
        ")"
      ],
      "metadata": {
        "id": "r_xgF8BtaaxC"
      },
      "execution_count": 29,
      "outputs": []
    },
    {
      "cell_type": "code",
      "source": [
        "albert_history = model.fit(\n",
        "    x = {\n",
        "            'input_ids'     : x_train_albert['input_ids'], \n",
        "            'attention_mask': x_train_albert['attention_mask']\n",
        "         },   \n",
        "    y = {\n",
        "            'em_output'     : em_train,\n",
        "            'dist_output'   : distr_train,\n",
        "            'vad_output'    : vad_train\n",
        "         },\n",
        "\n",
        "    validation_data = (\n",
        "        {\n",
        "            'input_ids'     : x_val_albert['input_ids'], \n",
        "            'attention_mask': x_val_albert['attention_mask']\n",
        "        }, \n",
        "        {\n",
        "            'em_output'     : em_val,\n",
        "            'dist_output'   : distr_val,\n",
        "            'vad_output'    : vad_val,\n",
        "        }),\n",
        "\n",
        "    epochs=20, \n",
        "    batch_size=16,\n",
        "    callbacks = [ks.callbacks.EarlyStopping(monitor='val_em_output_balanced_accuracy', patience=4, verbose=1, mode='max', restore_best_weights=True),\n",
        "                 ks.callbacks.ReduceLROnPlateau(monitor=\"val_em_output_balanced_accuracy\", factor=0.1, patience=2)]\n",
        ")"
      ],
      "metadata": {
        "colab": {
          "base_uri": "https://localhost:8080/"
        },
        "id": "rS4R8XVFa_SY",
        "outputId": "2bc80073-1d4f-4daa-a271-fbf00bec2a6c"
      },
      "execution_count": 30,
      "outputs": [
        {
          "output_type": "stream",
          "name": "stdout",
          "text": [
            "Epoch 1/2\n"
          ]
        },
        {
          "output_type": "stream",
          "name": "stderr",
          "text": [
            "WARNING:tensorflow:Gradients do not exist for variables ['tf_albert_model_2/albert/pooler/kernel:0', 'tf_albert_model_2/albert/pooler/bias:0'] when minimizing the loss. If you're using `model.compile()`, did you forget to provide a `loss` argument?\n",
            "WARNING:tensorflow:Gradients do not exist for variables ['tf_albert_model_2/albert/pooler/kernel:0', 'tf_albert_model_2/albert/pooler/bias:0'] when minimizing the loss. If you're using `model.compile()`, did you forget to provide a `loss` argument?\n",
            "WARNING:tensorflow:Gradients do not exist for variables ['tf_albert_model_2/albert/pooler/kernel:0', 'tf_albert_model_2/albert/pooler/bias:0'] when minimizing the loss. If you're using `model.compile()`, did you forget to provide a `loss` argument?\n",
            "WARNING:tensorflow:Gradients do not exist for variables ['tf_albert_model_2/albert/pooler/kernel:0', 'tf_albert_model_2/albert/pooler/bias:0'] when minimizing the loss. If you're using `model.compile()`, did you forget to provide a `loss` argument?\n"
          ]
        },
        {
          "output_type": "stream",
          "name": "stdout",
          "text": [
            "503/503 [==============================] - 219s 385ms/step - loss: 61.8658 - em_output_loss: 2.2950 - vad_output_loss: 0.3463 - dist_output_loss: 1.5373 - em_output_balanced_accuracy: 0.2154 - vad_output_mean_squared_error: 0.3463 - dist_output_kullback_leibler_divergence: 1.5373 - val_loss: 57.9872 - val_em_output_loss: 2.1695 - val_vad_output_loss: 0.3210 - val_dist_output_loss: 1.3997 - val_em_output_balanced_accuracy: 0.3000 - val_vad_output_mean_squared_error: 0.3210 - val_dist_output_kullback_leibler_divergence: 1.3997 - lr: 1.0000e-05\n",
            "Epoch 2/2\n",
            "503/503 [==============================] - 178s 353ms/step - loss: 56.3215 - em_output_loss: 2.0615 - vad_output_loss: 0.6794 - dist_output_loss: 1.3913 - em_output_balanced_accuracy: 0.2994 - vad_output_mean_squared_error: 0.6794 - dist_output_kullback_leibler_divergence: 1.3913 - val_loss: 51.4238 - val_em_output_loss: 1.8911 - val_vad_output_loss: 0.5448 - val_dist_output_loss: 1.2472 - val_em_output_balanced_accuracy: 0.3360 - val_vad_output_mean_squared_error: 0.5448 - val_dist_output_kullback_leibler_divergence: 1.2472 - lr: 1.0000e-05\n"
          ]
        }
      ]
    },
    {
      "cell_type": "markdown",
      "source": [
        "## Training results"
      ],
      "metadata": {
        "id": "YYwaHEk1emwL"
      }
    },
    {
      "cell_type": "code",
      "source": [
        "# utility to plot train history\n",
        "def plot_history(model_history,keys):\n",
        "    m,val_m = keys\n",
        "    plt.plot(range(1, len(model_history.history[m])+1), model_history.history[m])\n",
        "    plt.plot(range(1, len(model_history.history[val_m])+1),model_history.history[val_m])\n",
        "    plt.ylabel(m)\n",
        "    plt.xlabel('epoch')\n",
        "    plt.legend(['train', 'validation'], loc='upper left')\n",
        "    plt.show()"
      ],
      "metadata": {
        "id": "3LwL_jnbaTpR"
      },
      "execution_count": 31,
      "outputs": []
    },
    {
      "cell_type": "code",
      "source": [
        "plot_history(albert_history, ['em_output_balanced_accuracy','val_em_output_balanced_accuracy'])"
      ],
      "metadata": {
        "colab": {
          "base_uri": "https://localhost:8080/",
          "height": 449
        },
        "id": "vQ_O5jw8elC7",
        "outputId": "11779a8d-b303-4008-e799-788084f73dcf"
      },
      "execution_count": 32,
      "outputs": [
        {
          "output_type": "display_data",
          "data": {
            "text/plain": [
              "<Figure size 640x480 with 1 Axes>"
            ],
            "image/png": "[encoded data removed]"
          },
          "metadata": {}
        }
      ]
    },
    {
      "cell_type": "code",
      "source": [
        "y_pred_albert = model.predict({'input_ids': x_test_albert['input_ids'],'attention_mask': x_test_albert['attention_mask']})\n",
        "\n",
        "# convertion of the guessed label in integer labels\n",
        "y_pred_albert = np.argmax(y_pred_albert[0], axis = 1)\n",
        "\n",
        "f1_macro = f1_score(em_test, y_pred_albert, average='macro')\n",
        "\n",
        "print(\"The final F1-score macro avg obtained on the test set is F1 = {}\".format(f1_macro))"
      ],
      "metadata": {
        "colab": {
          "base_uri": "https://localhost:8080/"
        },
        "id": "dym3EfQVezXj",
        "outputId": "97b5c5a6-f990-4e6c-d555-dfa12d5fcee1"
      },
      "execution_count": 39,
      "outputs": [
        {
          "output_type": "stream",
          "name": "stdout",
          "text": [
            "32/32 [==============================] - 8s 239ms/step\n",
            "The final F1-score macro avg obtained on the test set is F1 = 0.1576957319271247\n"
          ]
        }
      ]
    },
    {
      "cell_type": "code",
      "source": [
        "print(classification_report(em_test, y_pred_albert))"
      ],
      "metadata": {
        "colab": {
          "base_uri": "https://localhost:8080/"
        },
        "id": "P94Q3dZyhzmM",
        "outputId": "9812e058-e88d-4cb2-8d96-373708ac99de"
      },
      "execution_count": 40,
      "outputs": [
        {
          "output_type": "stream",
          "name": "stdout",
          "text": [
            "              precision    recall  f1-score   support\n",
            "\n",
            "           0       0.00      0.00      0.00       111\n",
            "           1       0.00      0.00      0.00         1\n",
            "           2       0.38      0.05      0.08       105\n",
            "           3       0.00      0.00      0.00         1\n",
            "           4       0.54      0.32      0.40       201\n",
            "           5       0.15      0.12      0.14        48\n",
            "           6       0.00      0.00      0.00       185\n",
            "           8       0.42      0.77      0.55        94\n",
            "           9       0.00      0.00      0.00        10\n",
            "          10       0.28      0.75      0.41       244\n",
            "\n",
            "    accuracy                           0.33      1000\n",
            "   macro avg       0.18      0.20      0.16      1000\n",
            "weighted avg       0.26      0.33      0.25      1000\n",
            "\n"
          ]
        },
        {
          "output_type": "stream",
          "name": "stderr",
          "text": [
            "/usr/local/lib/python3.9/dist-packages/sklearn/metrics/_classification.py:1344: UndefinedMetricWarning: Precision and F-score are ill-defined and being set to 0.0 in labels with no predicted samples. Use `zero_division` parameter to control this behavior.\n",
            "  _warn_prf(average, modifier, msg_start, len(result))\n",
            "/usr/local/lib/python3.9/dist-packages/sklearn/metrics/_classification.py:1344: UndefinedMetricWarning: Precision and F-score are ill-defined and being set to 0.0 in labels with no predicted samples. Use `zero_division` parameter to control this behavior.\n",
            "  _warn_prf(average, modifier, msg_start, len(result))\n",
            "/usr/local/lib/python3.9/dist-packages/sklearn/metrics/_classification.py:1344: UndefinedMetricWarning: Precision and F-score are ill-defined and being set to 0.0 in labels with no predicted samples. Use `zero_division` parameter to control this behavior.\n",
            "  _warn_prf(average, modifier, msg_start, len(result))\n"
          ]
        }
      ]
    }
  ]
}