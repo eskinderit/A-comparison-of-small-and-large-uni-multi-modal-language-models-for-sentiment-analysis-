{
  "cells": [
    {
      "cell_type": "markdown",
      "source": [
        "# Emotion Recognition On Audio - CNN Model"
      ],
      "metadata": {
        "collapsed": false,
        "id": "zs0fwNorLxvt"
      }
    },
    {
      "cell_type": "markdown",
      "source": [
        "## Importing needed libraries"
      ],
      "metadata": {
        "id": "YzzelUbIMTP0"
      }
    },
    {
      "cell_type": "code",
      "source": [
        "!pip install tensorflow-addons\n",
        "!pip install sentencepiece\n",
        "!pip install tensorflow_hub\n",
        "!pip install transformers\n",
        "!pip install pytest\n",
        "\n",
        "\n",
        "# System Libraries\n",
        "import os\n",
        "from pathlib import Path\n",
        "import tarfile\n",
        "from IPython.display import Audio, clear_output\n",
        "\n",
        "# Handling Data Libraries\n",
        "import pandas as pd\n",
        "import numpy as np\n",
        "import sentencepiece\n",
        "from sklearn.model_selection import train_test_split\n",
        "from sklearn import preprocessing\n",
        "\n",
        "# Plot Libraries\n",
        "import matplotlib.pyplot as plt\n",
        "import plotly.express as px\n",
        "import seaborn as sns\n",
        "\n",
        "# Transformer models Libraries and utilities, metrics\n",
        "from sklearn.metrics import classification_report, f1_score\n",
        "from keras.utils.data_utils import get_file\n",
        "from keras.utils.data_utils import get_file\n",
        "from transformers import AlbertTokenizer, TFAlbertModel\n",
        "import tensorflow as tf\n",
        "from tensorflow.keras.layers import Input, Dense\n",
        "import tensorflow_hub as hub\n",
        "import tensorflow_addons as tfa\n",
        "from tensorflow.keras.optimizers import Adam\n",
        "from tensorflow.keras.callbacks import EarlyStopping\n",
        "from tensorflow.keras.initializers import TruncatedNormal\n",
        "from tensorflow.keras.losses import CategoricalCrossentropy\n",
        "from tensorflow.keras.metrics import CategoricalAccuracy\n",
        "from tensorflow.keras.utils import to_categorical\n",
        "\n",
        "# Download of the chosen model and its tokenizer\n",
        "print('Using TensorFlow version', tf.__version__)\n",
        "tokenizer = AlbertTokenizer.from_pretrained(\"albert-base-v2\")\n",
        "albert = TFAlbertModel.from_pretrained(\"albert-base-v2\")\n",
        "\n",
        "\n",
        "random_seed = 42"
      ],
      "metadata": {
        "id": "4-RJyY3mMSsu",
        "colab": {
          "base_uri": "https://localhost:8080/",
          "height": 0,
          "referenced_widgets": [
            "d96d1ea49512482f87c1701699186ae5",
            "d88b286e682e4f879ea5f9e88f158683",
            "8e290001bb4641329d57d5afde9c3309",
            "00c9effb2da843b8a2469c5c83309148",
            "5f830c6bda4e433fbc995e829a4fba58",
            "bae4095f18924c1597b8689fb627bc71",
            "e45b5769f85849e08cf54df9c131974b",
            "b372f45f46784c678a3868b74dec16ac",
            "6f466ff09c5349fcb0dec140eb9ecc02",
            "c2f09ce1b7824867b5bec3ee8e008892",
            "e23546a7870245828db44707cea06e8b",
            "d53579d2a53d460a80f3f6df20636fc1",
            "2cf0f4aaa4974ee0a965e478ade4a09e",
            "641ff5761641475aba250f3955c3c0e9",
            "33d3331f86e046f8ab49fc65c198e980",
            "8d494b07482b4fd7823588f0386b072e",
            "77179d2852a74fae9a6c02eef1ce2191",
            "dd8aa60391be4a299067e4f0d8a5842c",
            "9773e9461e1e4fbe9f9445ed51a3e9ce",
            "e103c899e7e4432f8c8c4faaeb957563",
            "959c2be923f5492dab9af5172eb2841c",
            "0b2bc7b6285f4a8fa0a012ad933d5f13",
            "06363cc9503143acbe4a9222d366ebd6",
            "e57d2bc1c0af4dffbd502d4e8de2e4f4",
            "ebb78bee78794c6daa55ab3bc9b6300f",
            "a267b017eebb4eed91726d0b7cd5c846",
            "addd186eb7804af7b48a080c0436000a",
            "d619cebf0d764d63ac2a78ba01b50c5b",
            "b63daa99588b4474b411bb9733b9db0f",
            "4b8c46f17a8b44bebd85b7c623e38910",
            "90350fcc7fa846c5a9d597a58507ff9d",
            "203d9802de0445499b0818e2ea087e16",
            "69f78f8801b14c2698681c1bf0358841"
          ]
        },
        "outputId": "d6985433-6357-4c5d-fa14-0d6412785383"
      },
      "execution_count": 1,
      "outputs": [
        {
          "output_type": "stream",
          "name": "stdout",
          "text": [
            "Looking in indexes: https://pypi.org/simple, https://us-python.pkg.dev/colab-wheels/public/simple/\n",
            "Collecting tensorflow-addons\n",
            "  Downloading tensorflow_addons-0.19.0-cp39-cp39-manylinux_2_17_x86_64.manylinux2014_x86_64.whl (1.1 MB)\n",
            "\u001b[2K     \u001b[90m━━━━━━━━━━━━━━━━━━━━━━━━━━━━━━━━━━━━━━━━\u001b[0m \u001b[32m1.1/1.1 MB\u001b[0m \u001b[31m56.7 MB/s\u001b[0m eta \u001b[36m0:00:00\u001b[0m\n",
            "\u001b[?25hCollecting typeguard>=2.7\n",
            "  Downloading typeguard-3.0.2-py3-none-any.whl (30 kB)\n",
            "Requirement already satisfied: packaging in /usr/local/lib/python3.9/dist-packages (from tensorflow-addons) (23.0)\n",
            "Requirement already satisfied: typing-extensions>=4.4.0 in /usr/local/lib/python3.9/dist-packages (from typeguard>=2.7->tensorflow-addons) (4.5.0)\n",
            "Requirement already satisfied: importlib-metadata>=3.6 in /usr/local/lib/python3.9/dist-packages (from typeguard>=2.7->tensorflow-addons) (6.1.0)\n",
            "Requirement already satisfied: zipp>=0.5 in /usr/local/lib/python3.9/dist-packages (from importlib-metadata>=3.6->typeguard>=2.7->tensorflow-addons) (3.15.0)\n",
            "Installing collected packages: typeguard, tensorflow-addons\n",
            "Successfully installed tensorflow-addons-0.19.0 typeguard-3.0.2\n",
            "Looking in indexes: https://pypi.org/simple, https://us-python.pkg.dev/colab-wheels/public/simple/\n",
            "Collecting sentencepiece\n",
            "  Downloading sentencepiece-0.1.97-cp39-cp39-manylinux_2_17_x86_64.manylinux2014_x86_64.whl (1.3 MB)\n",
            "\u001b[2K     \u001b[90m━━━━━━━━━━━━━━━━━━━━━━━━━━━━━━━━━━━━━━━━\u001b[0m \u001b[32m1.3/1.3 MB\u001b[0m \u001b[31m44.1 MB/s\u001b[0m eta \u001b[36m0:00:00\u001b[0m\n",
            "\u001b[?25hInstalling collected packages: sentencepiece\n",
            "Successfully installed sentencepiece-0.1.97\n",
            "Looking in indexes: https://pypi.org/simple, https://us-python.pkg.dev/colab-wheels/public/simple/\n",
            "Requirement already satisfied: tensorflow_hub in /usr/local/lib/python3.9/dist-packages (0.13.0)\n",
            "Requirement already satisfied: numpy>=1.12.0 in /usr/local/lib/python3.9/dist-packages (from tensorflow_hub) (1.22.4)\n",
            "Requirement already satisfied: protobuf>=3.19.6 in /usr/local/lib/python3.9/dist-packages (from tensorflow_hub) (3.20.3)\n",
            "Looking in indexes: https://pypi.org/simple, https://us-python.pkg.dev/colab-wheels/public/simple/\n",
            "Collecting transformers\n",
            "  Downloading transformers-4.27.4-py3-none-any.whl (6.8 MB)\n",
            "\u001b[2K     \u001b[90m━━━━━━━━━━━━━━━━━━━━━━━━━━━━━━━━━━━━━━━━\u001b[0m \u001b[32m6.8/6.8 MB\u001b[0m \u001b[31m45.2 MB/s\u001b[0m eta \u001b[36m0:00:00\u001b[0m\n",
            "\u001b[?25hRequirement already satisfied: regex!=2019.12.17 in /usr/local/lib/python3.9/dist-packages (from transformers) (2022.10.31)\n",
            "Collecting huggingface-hub<1.0,>=0.11.0\n",
            "  Downloading huggingface_hub-0.13.3-py3-none-any.whl (199 kB)\n",
            "\u001b[2K     \u001b[90m━━━━━━━━━━━━━━━━━━━━━━━━━━━━━━━━━━━━━━\u001b[0m \u001b[32m199.8/199.8 KB\u001b[0m \u001b[31m21.3 MB/s\u001b[0m eta \u001b[36m0:00:00\u001b[0m\n",
            "\u001b[?25hRequirement already satisfied: numpy>=1.17 in /usr/local/lib/python3.9/dist-packages (from transformers) (1.22.4)\n",
            "Requirement already satisfied: filelock in /usr/local/lib/python3.9/dist-packages (from transformers) (3.10.7)\n",
            "Requirement already satisfied: packaging>=20.0 in /usr/local/lib/python3.9/dist-packages (from transformers) (23.0)\n",
            "Requirement already satisfied: requests in /usr/local/lib/python3.9/dist-packages (from transformers) (2.27.1)\n",
            "Requirement already satisfied: pyyaml>=5.1 in /usr/local/lib/python3.9/dist-packages (from transformers) (6.0)\n",
            "Collecting tokenizers!=0.11.3,<0.14,>=0.11.1\n",
            "  Downloading tokenizers-0.13.3-cp39-cp39-manylinux_2_17_x86_64.manylinux2014_x86_64.whl (7.8 MB)\n",
            "\u001b[2K     \u001b[90m━━━━━━━━━━━━━━━━━━━━━━━━━━━━━━━━━━━━━━━━\u001b[0m \u001b[32m7.8/7.8 MB\u001b[0m \u001b[31m64.0 MB/s\u001b[0m eta \u001b[36m0:00:00\u001b[0m\n",
            "\u001b[?25hRequirement already satisfied: tqdm>=4.27 in /usr/local/lib/python3.9/dist-packages (from transformers) (4.65.0)\n",
            "Requirement already satisfied: typing-extensions>=3.7.4.3 in /usr/local/lib/python3.9/dist-packages (from huggingface-hub<1.0,>=0.11.0->transformers) (4.5.0)\n",
            "Requirement already satisfied: charset-normalizer~=2.0.0 in /usr/local/lib/python3.9/dist-packages (from requests->transformers) (2.0.12)\n",
            "Requirement already satisfied: urllib3<1.27,>=1.21.1 in /usr/local/lib/python3.9/dist-packages (from requests->transformers) (1.26.15)\n",
            "Requirement already satisfied: certifi>=2017.4.17 in /usr/local/lib/python3.9/dist-packages (from requests->transformers) (2022.12.7)\n",
            "Requirement already satisfied: idna<4,>=2.5 in /usr/local/lib/python3.9/dist-packages (from requests->transformers) (3.4)\n",
            "Installing collected packages: tokenizers, huggingface-hub, transformers\n",
            "Successfully installed huggingface-hub-0.13.3 tokenizers-0.13.3 transformers-4.27.4\n",
            "Looking in indexes: https://pypi.org/simple, https://us-python.pkg.dev/colab-wheels/public/simple/\n",
            "Requirement already satisfied: pytest in /usr/local/lib/python3.9/dist-packages (7.2.2)\n",
            "Requirement already satisfied: pluggy<2.0,>=0.12 in /usr/local/lib/python3.9/dist-packages (from pytest) (1.0.0)\n",
            "Requirement already satisfied: exceptiongroup>=1.0.0rc8 in /usr/local/lib/python3.9/dist-packages (from pytest) (1.1.1)\n",
            "Requirement already satisfied: tomli>=1.0.0 in /usr/local/lib/python3.9/dist-packages (from pytest) (2.0.1)\n",
            "Requirement already satisfied: packaging in /usr/local/lib/python3.9/dist-packages (from pytest) (23.0)\n",
            "Requirement already satisfied: attrs>=19.2.0 in /usr/local/lib/python3.9/dist-packages (from pytest) (22.2.0)\n",
            "Requirement already satisfied: iniconfig in /usr/local/lib/python3.9/dist-packages (from pytest) (2.0.0)\n"
          ]
        },
        {
          "output_type": "stream",
          "name": "stderr",
          "text": [
            "/usr/local/lib/python3.9/dist-packages/tensorflow_addons/utils/ensure_tf_install.py:53: UserWarning: Tensorflow Addons supports using Python ops for all Tensorflow versions above or equal to 2.9.0 and strictly below 2.12.0 (nightly versions are not supported). \n",
            " The versions of TensorFlow you are currently using is 2.12.0 and is not supported. \n",
            "Some things might work, some things might not.\n",
            "If you were to encounter a bug, do not file an issue.\n",
            "If you want to make sure you're using a tested and supported configuration, either change the TensorFlow version or the TensorFlow Addons's version. \n",
            "You can find the compatibility matrix in TensorFlow Addon's readme:\n",
            "https://github.com/tensorflow/addons\n",
            "  warnings.warn(\n"
          ]
        },
        {
          "output_type": "stream",
          "name": "stdout",
          "text": [
            "Using TensorFlow version 2.12.0\n"
          ]
        },
        {
          "output_type": "display_data",
          "data": {
            "text/plain": [
              "Downloading (…)ve/main/spiece.model:   0%|          | 0.00/760k [00:00<?, ?B/s]"
            ],
            "application/vnd.jupyter.widget-view+json": {
              "version_major": 2,
              "version_minor": 0,
              "model_id": "d96d1ea49512482f87c1701699186ae5"
            }
          },
          "metadata": {}
        },
        {
          "output_type": "display_data",
          "data": {
            "text/plain": [
              "Downloading (…)lve/main/config.json:   0%|          | 0.00/684 [00:00<?, ?B/s]"
            ],
            "application/vnd.jupyter.widget-view+json": {
              "version_major": 2,
              "version_minor": 0,
              "model_id": "d53579d2a53d460a80f3f6df20636fc1"
            }
          },
          "metadata": {}
        },
        {
          "output_type": "display_data",
          "data": {
            "text/plain": [
              "Downloading tf_model.h5:   0%|          | 0.00/63.0M [00:00<?, ?B/s]"
            ],
            "application/vnd.jupyter.widget-view+json": {
              "version_major": 2,
              "version_minor": 0,
              "model_id": "06363cc9503143acbe4a9222d366ebd6"
            }
          },
          "metadata": {}
        },
        {
          "output_type": "stream",
          "name": "stderr",
          "text": [
            "Some layers from the model checkpoint at albert-base-v2 were not used when initializing TFAlbertModel: ['predictions']\n",
            "- This IS expected if you are initializing TFAlbertModel from the checkpoint of a model trained on another task or with another architecture (e.g. initializing a BertForSequenceClassification model from a BertForPreTraining model).\n",
            "- This IS NOT expected if you are initializing TFAlbertModel from the checkpoint of a model that you expect to be exactly identical (initializing a BertForSequenceClassification model from a BertForSequenceClassification model).\n",
            "All the layers of TFAlbertModel were initialized from the model checkpoint at albert-base-v2.\n",
            "If your task is similar to the task the model of the checkpoint was trained on, you can already use TFAlbertModel for predictions without further training.\n"
          ]
        }
      ]
    },
    {
      "cell_type": "markdown",
      "source": [
        "## Preprocessing"
      ],
      "metadata": {
        "id": "Fmb8UrHK9dtN"
      }
    },
    {
      "cell_type": "markdown",
      "source": [
        "### Dataset download"
      ],
      "metadata": {
        "collapsed": false,
        "id": "JMmQK1OLLxv1"
      }
    },
    {
      "cell_type": "code",
      "execution_count": 2,
      "outputs": [],
      "source": [
        "from google.colab import files\n",
        "\n",
        "def download_dataset_from_kaggle_to_colab():\n",
        "    files.upload()\n",
        "    !ls -lha kaggle.json\n",
        "    !pip install -q kaggle # Install kaggle API\n",
        "    !mkdir -p ~/.kaggle\n",
        "    !cp kaggle.json ~/.kaggle/\n",
        "    !chmod 600 /root/.kaggle/kaggle.json\n",
        "    !kaggle datasets download -d riccardopaolini/nlp-project-work\n",
        "    !unzip nlp-project-work.zip\n",
        "    clear_output()\n",
        "\n",
        "download_dataset_from_kaggle_to_colab()"
      ],
      "metadata": {
        "id": "4ebmZ5O5Lxv3"
      }
    },
    {
      "cell_type": "markdown",
      "source": [
        "### Dataset conversion into table"
      ],
      "metadata": {
        "id": "Yfk2Q-CEctRU"
      }
    },
    {
      "cell_type": "code",
      "source": [
        "def build_IEMOCAP_dataframe():\n",
        "    folder = os.path.join(os.getcwd(), 'IEMOCAP')\n",
        "\n",
        "    conv_id = 0\n",
        "\n",
        "    df = []\n",
        "    for session in os.listdir(folder):\n",
        "        session_path = os.path.join(folder, session)\n",
        "        # 'dialogue' folder contains Emotions and Transcripts\n",
        "        # 'sentences' folder contains Audios\n",
        "\n",
        "        trans_folder = os.path.join(session_path, 'dialog', 'transcriptions')\n",
        "\n",
        "        for trans_name in os.listdir(trans_folder):\n",
        "            if trans_name[:2] != '._':\n",
        "                emo_path = os.path.join(session_path, 'dialog', 'EmoEvaluation', trans_name)\n",
        "                with open(os.path.join(trans_folder, trans_name), encoding='utf8') as trans_file, open(emo_path, encoding='utf8') as emo_file:\n",
        "                    conv_id += 1\n",
        "                    turn_id = 0\n",
        "                    for line in trans_file:\n",
        "                        #print(line.split('_'))\n",
        "                        audio_name, text = line.split(':')\n",
        "                        if trans_name.split('.')[0] in audio_name:\n",
        "                            turn_id += 1\n",
        "\n",
        "                            wav_path = os.path.join(session_path, 'sentences', 'wav', trans_name.split('.')[0], audio_name.split(' ')[0] + '.wav')\n",
        "\n",
        "                            reached = False\n",
        "                            count_em = {'Anger': 0, 'Happiness': 0, 'Sadness': 0, 'Neutral': 0, 'Frustration': 0, 'Excited': 0, 'Fear': 0, 'Surprise': 0, 'Disgust': 0, 'Other': 0}\n",
        "                            for emo_line in emo_file:\n",
        "                                if audio_name.split(' ')[0] in emo_line:\n",
        "                                    emotion, vad = emo_line.split('\\t')[-2:]\n",
        "                                    vad = vad[1:-2].split(',')\n",
        "                                    reached = True\n",
        "                                elif emo_line[0] == 'C' and reached:\n",
        "                                    evaluator = emo_line.split(':')[0]\n",
        "                                    emotions = emo_line.split(':')[1].split('(')[0].split(';')\n",
        "                                    emotions = [em.strip() for em in emotions]\n",
        "                                    for em in emotions:\n",
        "                                        if em != '':\n",
        "                                            count_em[em] += 1\n",
        "                                elif reached:\n",
        "                                    emo_file.seek(0)\n",
        "                                    break\n",
        "                                        \n",
        "\n",
        "                            row = {'conv_id': conv_id, \n",
        "                                    'turn_id': turn_id, \n",
        "                                    'sentence': text.strip(),\n",
        "                                    'path': wav_path,\n",
        "                                    'emotion': emotion,\n",
        "                                    'valence': float(vad[0]),\n",
        "                                    'activation': float(vad[1]),\n",
        "                                    'dominance': float(vad[2])\n",
        "                                    }\n",
        "                            \n",
        "                            df.append(dict(**row, **count_em))\n",
        "\n",
        "    return pd.DataFrame(df)\n",
        "\n",
        "df = build_IEMOCAP_dataframe()\n",
        "df.head()"
      ],
      "metadata": {
        "colab": {
          "base_uri": "https://localhost:8080/",
          "height": 0
        },
        "id": "nzPDCb9McqRd",
        "outputId": "21602508-612f-4e7b-9f13-c06fba5d3e09"
      },
      "execution_count": 3,
      "outputs": [
        {
          "output_type": "execute_result",
          "data": {
            "text/plain": [
              "   conv_id  turn_id                                           sentence  \\\n",
              "0        1        1  As a matter of fact, the real cause of that ro...   \n",
              "1        1        2                You knew there was nothing in that.   \n",
              "2        1        3  I knew nothing of the sort. You took presents ...   \n",
              "3        1        4            Presents, just a trivial little broach.   \n",
              "4        1        5  Yes, I remember it well, bristling with diamon...   \n",
              "\n",
              "                                                path emotion  valence  \\\n",
              "0  /content/IEMOCAP/Session2/sentences/wav/Ses02M...     neu      3.0   \n",
              "1  /content/IEMOCAP/Session2/sentences/wav/Ses02M...     exc      3.0   \n",
              "2  /content/IEMOCAP/Session2/sentences/wav/Ses02M...     ang      2.5   \n",
              "3  /content/IEMOCAP/Session2/sentences/wav/Ses02M...     exc      2.0   \n",
              "4  /content/IEMOCAP/Session2/sentences/wav/Ses02M...     xxx      2.5   \n",
              "\n",
              "   activation  dominance  Anger  Happiness  Sadness  Neutral  Frustration  \\\n",
              "0         3.0        4.0      0          0        0        2            1   \n",
              "1         2.5        3.5      0          0        0        1            0   \n",
              "2         3.0        3.5      2          0        0        0            1   \n",
              "3         3.0        3.5      0          0        0        1            0   \n",
              "4         3.5        4.0      1          0        0        1            1   \n",
              "\n",
              "   Excited  Fear  Surprise  Disgust  Other  \n",
              "0        0     0         0        0      0  \n",
              "1        2     0         0        0      0  \n",
              "2        0     0         0        0      0  \n",
              "3        2     0         0        0      0  \n",
              "4        0     0         0        0      0  "
            ],
            "text/html": [
              "\n",
              "  <div id=\"df-ab05995a-ca52-4aca-8e8a-09884143545a\">\n",
              "    <div class=\"colab-df-container\">\n",
              "      <div>\n",
              "<style scoped>\n",
              "    .dataframe tbody tr th:only-of-type {\n",
              "        vertical-align: middle;\n",
              "    }\n",
              "\n",
              "    .dataframe tbody tr th {\n",
              "        vertical-align: top;\n",
              "    }\n",
              "\n",
              "    .dataframe thead th {\n",
              "        text-align: right;\n",
              "    }\n",
              "</style>\n",
              "<table border=\"1\" class=\"dataframe\">\n",
              "  <thead>\n",
              "    <tr style=\"text-align: right;\">\n",
              "      <th></th>\n",
              "      <th>conv_id</th>\n",
              "      <th>turn_id</th>\n",
              "      <th>sentence</th>\n",
              "      <th>path</th>\n",
              "      <th>emotion</th>\n",
              "      <th>valence</th>\n",
              "      <th>activation</th>\n",
              "      <th>dominance</th>\n",
              "      <th>Anger</th>\n",
              "      <th>Happiness</th>\n",
              "      <th>Sadness</th>\n",
              "      <th>Neutral</th>\n",
              "      <th>Frustration</th>\n",
              "      <th>Excited</th>\n",
              "      <th>Fear</th>\n",
              "      <th>Surprise</th>\n",
              "      <th>Disgust</th>\n",
              "      <th>Other</th>\n",
              "    </tr>\n",
              "  </thead>\n",
              "  <tbody>\n",
              "    <tr>\n",
              "      <th>0</th>\n",
              "      <td>1</td>\n",
              "      <td>1</td>\n",
              "      <td>As a matter of fact, the real cause of that ro...</td>\n",
              "      <td>/content/IEMOCAP/Session2/sentences/wav/Ses02M...</td>\n",
              "      <td>neu</td>\n",
              "      <td>3.0</td>\n",
              "      <td>3.0</td>\n",
              "      <td>4.0</td>\n",
              "      <td>0</td>\n",
              "      <td>0</td>\n",
              "      <td>0</td>\n",
              "      <td>2</td>\n",
              "      <td>1</td>\n",
              "      <td>0</td>\n",
              "      <td>0</td>\n",
              "      <td>0</td>\n",
              "      <td>0</td>\n",
              "      <td>0</td>\n",
              "    </tr>\n",
              "    <tr>\n",
              "      <th>1</th>\n",
              "      <td>1</td>\n",
              "      <td>2</td>\n",
              "      <td>You knew there was nothing in that.</td>\n",
              "      <td>/content/IEMOCAP/Session2/sentences/wav/Ses02M...</td>\n",
              "      <td>exc</td>\n",
              "      <td>3.0</td>\n",
              "      <td>2.5</td>\n",
              "      <td>3.5</td>\n",
              "      <td>0</td>\n",
              "      <td>0</td>\n",
              "      <td>0</td>\n",
              "      <td>1</td>\n",
              "      <td>0</td>\n",
              "      <td>2</td>\n",
              "      <td>0</td>\n",
              "      <td>0</td>\n",
              "      <td>0</td>\n",
              "      <td>0</td>\n",
              "    </tr>\n",
              "    <tr>\n",
              "      <th>2</th>\n",
              "      <td>1</td>\n",
              "      <td>3</td>\n",
              "      <td>I knew nothing of the sort. You took presents ...</td>\n",
              "      <td>/content/IEMOCAP/Session2/sentences/wav/Ses02M...</td>\n",
              "      <td>ang</td>\n",
              "      <td>2.5</td>\n",
              "      <td>3.0</td>\n",
              "      <td>3.5</td>\n",
              "      <td>2</td>\n",
              "      <td>0</td>\n",
              "      <td>0</td>\n",
              "      <td>0</td>\n",
              "      <td>1</td>\n",
              "      <td>0</td>\n",
              "      <td>0</td>\n",
              "      <td>0</td>\n",
              "      <td>0</td>\n",
              "      <td>0</td>\n",
              "    </tr>\n",
              "    <tr>\n",
              "      <th>3</th>\n",
              "      <td>1</td>\n",
              "      <td>4</td>\n",
              "      <td>Presents, just a trivial little broach.</td>\n",
              "      <td>/content/IEMOCAP/Session2/sentences/wav/Ses02M...</td>\n",
              "      <td>exc</td>\n",
              "      <td>2.0</td>\n",
              "      <td>3.0</td>\n",
              "      <td>3.5</td>\n",
              "      <td>0</td>\n",
              "      <td>0</td>\n",
              "      <td>0</td>\n",
              "      <td>1</td>\n",
              "      <td>0</td>\n",
              "      <td>2</td>\n",
              "      <td>0</td>\n",
              "      <td>0</td>\n",
              "      <td>0</td>\n",
              "      <td>0</td>\n",
              "    </tr>\n",
              "    <tr>\n",
              "      <th>4</th>\n",
              "      <td>1</td>\n",
              "      <td>5</td>\n",
              "      <td>Yes, I remember it well, bristling with diamon...</td>\n",
              "      <td>/content/IEMOCAP/Session2/sentences/wav/Ses02M...</td>\n",
              "      <td>xxx</td>\n",
              "      <td>2.5</td>\n",
              "      <td>3.5</td>\n",
              "      <td>4.0</td>\n",
              "      <td>1</td>\n",
              "      <td>0</td>\n",
              "      <td>0</td>\n",
              "      <td>1</td>\n",
              "      <td>1</td>\n",
              "      <td>0</td>\n",
              "      <td>0</td>\n",
              "      <td>0</td>\n",
              "      <td>0</td>\n",
              "      <td>0</td>\n",
              "    </tr>\n",
              "  </tbody>\n",
              "</table>\n",
              "</div>\n",
              "      <button class=\"colab-df-convert\" onclick=\"convertToInteractive('df-ab05995a-ca52-4aca-8e8a-09884143545a')\"\n",
              "              title=\"Convert this dataframe to an interactive table.\"\n",
              "              style=\"display:none;\">\n",
              "        \n",
              "  <svg xmlns=\"http://www.w3.org/2000/svg\" height=\"24px\"viewBox=\"0 0 24 24\"\n",
              "       width=\"24px\">\n",
              "    <path d=\"M0 0h24v24H0V0z\" fill=\"none\"/>\n",
              "    <path d=\"M18.56 5.44l.94 2.06.94-2.06 2.06-.94-2.06-.94-.94-2.06-.94 2.06-2.06.94zm-11 1L8.5 8.5l.94-2.06 2.06-.94-2.06-.94L8.5 2.5l-.94 2.06-2.06.94zm10 10l.94 2.06.94-2.06 2.06-.94-2.06-.94-.94-2.06-.94 2.06-2.06.94z\"/><path d=\"M17.41 7.96l-1.37-1.37c-.4-.4-.92-.59-1.43-.59-.52 0-1.04.2-1.43.59L10.3 9.45l-7.72 7.72c-.78.78-.78 2.05 0 2.83L4 21.41c.39.39.9.59 1.41.59.51 0 1.02-.2 1.41-.59l7.78-7.78 2.81-2.81c.8-.78.8-2.07 0-2.86zM5.41 20L4 18.59l7.72-7.72 1.47 1.35L5.41 20z\"/>\n",
              "  </svg>\n",
              "      </button>\n",
              "      \n",
              "  <style>\n",
              "    .colab-df-container {\n",
              "      display:flex;\n",
              "      flex-wrap:wrap;\n",
              "      gap: 12px;\n",
              "    }\n",
              "\n",
              "    .colab-df-convert {\n",
              "      background-color: #E8F0FE;\n",
              "      border: none;\n",
              "      border-radius: 50%;\n",
              "      cursor: pointer;\n",
              "      display: none;\n",
              "      fill: #1967D2;\n",
              "      height: 32px;\n",
              "      padding: 0 0 0 0;\n",
              "      width: 32px;\n",
              "    }\n",
              "\n",
              "    .colab-df-convert:hover {\n",
              "      background-color: #E2EBFA;\n",
              "      box-shadow: 0px 1px 2px rgba(60, 64, 67, 0.3), 0px 1px 3px 1px rgba(60, 64, 67, 0.15);\n",
              "      fill: #174EA6;\n",
              "    }\n",
              "\n",
              "    [theme=dark] .colab-df-convert {\n",
              "      background-color: #3B4455;\n",
              "      fill: #D2E3FC;\n",
              "    }\n",
              "\n",
              "    [theme=dark] .colab-df-convert:hover {\n",
              "      background-color: #434B5C;\n",
              "      box-shadow: 0px 1px 3px 1px rgba(0, 0, 0, 0.15);\n",
              "      filter: drop-shadow(0px 1px 2px rgba(0, 0, 0, 0.3));\n",
              "      fill: #FFFFFF;\n",
              "    }\n",
              "  </style>\n",
              "\n",
              "      <script>\n",
              "        const buttonEl =\n",
              "          document.querySelector('#df-ab05995a-ca52-4aca-8e8a-09884143545a button.colab-df-convert');\n",
              "        buttonEl.style.display =\n",
              "          google.colab.kernel.accessAllowed ? 'block' : 'none';\n",
              "\n",
              "        async function convertToInteractive(key) {\n",
              "          const element = document.querySelector('#df-ab05995a-ca52-4aca-8e8a-09884143545a');\n",
              "          const dataTable =\n",
              "            await google.colab.kernel.invokeFunction('convertToInteractive',\n",
              "                                                     [key], {});\n",
              "          if (!dataTable) return;\n",
              "\n",
              "          const docLinkHtml = 'Like what you see? Visit the ' +\n",
              "            '<a target=\"_blank\" href=https://colab.research.google.com/notebooks/data_table.ipynb>data table notebook</a>'\n",
              "            + ' to learn more about interactive tables.';\n",
              "          element.innerHTML = '';\n",
              "          dataTable['output_type'] = 'display_data';\n",
              "          await google.colab.output.renderOutput(dataTable, element);\n",
              "          const docLink = document.createElement('div');\n",
              "          docLink.innerHTML = docLinkHtml;\n",
              "          element.appendChild(docLink);\n",
              "        }\n",
              "      </script>\n",
              "    </div>\n",
              "  </div>\n",
              "  "
            ]
          },
          "metadata": {},
          "execution_count": 3
        }
      ]
    },
    {
      "cell_type": "markdown",
      "source": [
        "### Dataset inspection"
      ],
      "metadata": {
        "id": "wftCI2rth6fm"
      }
    },
    {
      "cell_type": "code",
      "source": [
        "X = df[\"sentence\"].copy()\n",
        "y = df[\"emotion\"].copy()\n",
        "\n",
        "\n",
        "# drawing plot of the sentences length distribution\n",
        "\n",
        "lengths = [len(t.split(' ')) for t in X]\n",
        "quantile = 0.95\n",
        "thresh = int(np.quantile(lengths, quantile))\n",
        "plt.hist(lengths, bins = len(set(lengths)))\n",
        "plt.title(f\"Sentence length distribution, thresh: (quantile ={quantile} -->{thresh} words) \")\n",
        "plt.axvline(x = thresh, color = 'r', label = 'axvline - full height')\n",
        "plt.show()\n",
        "\n",
        "# drawing plot of the emotions distribution\n",
        "plt.hist(y, bins = len(set(lengths)))\n",
        "plt.title(\"Emotions distribution\")\n",
        "plt.show()"
      ],
      "metadata": {
        "colab": {
          "base_uri": "https://localhost:8080/",
          "height": 0
        },
        "id": "8OCKU2Zbidjy",
        "outputId": "8c39ace7-6a00-407d-cde0-eae506fa19b2"
      },
      "execution_count": 4,
      "outputs": [
        {
          "output_type": "display_data",
          "data": {
            "text/plain": [
              "<Figure size 640x480 with 1 Axes>"
            ],
            "image/png": "[encoded data removed]"
          },
          "metadata": {}
        },
        {
          "output_type": "display_data",
          "data": {
            "text/plain": [
              "<Figure size 640x480 with 1 Axes>"
            ],
            "image/png": "[encoded data removed]"
          },
          "metadata": {}
        }
      ]
    },
    {
      "cell_type": "markdown",
      "source": [
        "### Dataset split"
      ],
      "metadata": {
        "id": "OoMR8eBuiaWO"
      }
    },
    {
      "cell_type": "code",
      "source": [
        "from sklearn.model_selection import train_test_split\n",
        "\n",
        "\n",
        "X_train, X_test, y_train, y_test = train_test_split(X, y, test_size=0.1, random_state=random_seed)# stratify=y)\n",
        "X_train, X_val, y_train, y_val = train_test_split(X_train, y_train, test_size=0.11, random_state=random_seed)"
      ],
      "metadata": {
        "id": "Qhc78_uVsucB"
      },
      "execution_count": 5,
      "outputs": []
    },
    {
      "cell_type": "code",
      "source": [
        "plt.hist(y_train, label=\"train set\")\n",
        "plt.legend()\n",
        "plt.show()\n",
        "plt.hist(y_val, label = \"val set\")\n",
        "plt.legend()\n",
        "plt.show()\n",
        "plt.hist(y_test, label = \"test set\")\n",
        "plt.legend()\n",
        "plt.show()"
      ],
      "metadata": {
        "colab": {
          "base_uri": "https://localhost:8080/",
          "height": 1000
        },
        "id": "C0uLgijMW4Dd",
        "outputId": "46189c83-91e9-4cab-da87-8be8ba4c7ca5"
      },
      "execution_count": 92,
      "outputs": [
        {
          "output_type": "display_data",
          "data": {
            "text/plain": [
              "<Figure size 640x480 with 1 Axes>"
            ],
            "image/png": "[encoded data removed]"
          },
          "metadata": {}
        },
        {
          "output_type": "display_data",
          "data": {
            "text/plain": [
              "<Figure size 640x480 with 1 Axes>"
            ],
            "image/png": "[encoded data removed]"
          },
          "metadata": {}
        },
        {
          "output_type": "display_data",
          "data": {
            "text/plain": [
              "<Figure size 640x480 with 1 Axes>"
            ],
            "image/png": "[encoded data removed]"
          },
          "metadata": {}
        }
      ]
    },
    {
      "cell_type": "markdown",
      "source": [
        "### Tokenization of sentences"
      ],
      "metadata": {
        "id": "oZcrjlV2--8V"
      }
    },
    {
      "cell_type": "code",
      "source": [
        "# setting length cut-limit for the sentences\n",
        "maxlen = thresh\n",
        "\n",
        "x_train_albert = tokenizer(\n",
        "    text = X_train.tolist(),\n",
        "    add_special_tokens=True,\n",
        "    max_length = maxlen,\n",
        "    truncation = True,\n",
        "    padding = 'max_length',\n",
        "    return_tensors='tf',\n",
        "    return_token_type_ids = False,\n",
        "    return_attention_mask = True,\n",
        "    verbose = True\n",
        ")\n",
        "\n",
        "x_val_albert = tokenizer(\n",
        "    text = X_val.tolist(),\n",
        "    add_special_tokens=True,\n",
        "    max_length = maxlen,\n",
        "    truncation = True,\n",
        "    padding = 'max_length',\n",
        "    return_tensors='tf',\n",
        "    return_token_type_ids = False,\n",
        "    return_attention_mask = True,\n",
        "    verbose = True\n",
        ")\n",
        "\n",
        "x_test_albert = tokenizer(\n",
        "    text = X_test.tolist(),\n",
        "    add_special_tokens=True,\n",
        "    max_length = maxlen,\n",
        "    truncation = True,\n",
        "    padding = \"max_length\",\n",
        "    return_tensors='tf',\n",
        "    return_token_type_ids = False,\n",
        "    return_attention_mask = True,\n",
        "    verbose = True\n",
        ")\n",
        "     "
      ],
      "metadata": {
        "id": "G3WJAnR2_DLK"
      },
      "execution_count": 6,
      "outputs": []
    },
    {
      "cell_type": "markdown",
      "source": [
        "### One-hot encoding of labels"
      ],
      "metadata": {
        "id": "85OP31i__Owi"
      }
    },
    {
      "cell_type": "code",
      "source": [
        "encoded_dict= {'ang':0, 'dis':1, 'exc':2, 'fea':3, 'fru':4, 'hap':5,'neu':6, 'oth':7, 'sad':8, 'sur':9, 'xxx':10}\n",
        "\n",
        "y_train_albert = y_train.map(encoded_dict)\n",
        "\n",
        "y_test_albert = y_test.map(encoded_dict)\n",
        "\n",
        "y_val_albert = y_val.map(encoded_dict)\n",
        "\n",
        "print(\"Before one-hot encoding: \\n\")\n",
        "print(y_train)\n",
        "print(\"Label count by class: \\n\")\n",
        "print(np.unique(y_train,return_counts=True))\n",
        "\n",
        "print(\"After one-hot encoding: \\n\")\n",
        "print(y_train_albert) \n",
        "print(\"Label count by class: \\n\")\n",
        "print(np.unique(y_train_albert,return_counts=True))\n",
        "\n",
        "\n",
        "# testing if the label vector has still same dimension\n",
        "assert len(y_train) == len(y_train_albert)\n",
        "assert len(y_val) == len(y_val_albert)\n",
        "assert len(y_test) == len(y_test_albert)\n",
        "\n",
        "# checking if new vectors contain only integers\n",
        "assert np.array_equal(y_train_albert, y_train_albert.astype(int))\n",
        "assert np.array_equal(y_val_albert, y_val_albert.astype(int))\n",
        "assert np.array_equal(y_test_albert, y_test_albert.astype(int))\n"
      ],
      "metadata": {
        "colab": {
          "base_uri": "https://localhost:8080/"
        },
        "id": "gThiy56-_NJc",
        "outputId": "1b0357bd-3962-433a-8b97-2caff394e441"
      },
      "execution_count": 7,
      "outputs": [
        {
          "output_type": "stream",
          "name": "stdout",
          "text": [
            "Before one-hot encoding: \n",
            "\n",
            "3833    exc\n",
            "8973    ang\n",
            "994     neu\n",
            "5324    ang\n",
            "8403    ang\n",
            "       ... \n",
            "9172    sad\n",
            "8558    hap\n",
            "7465    exc\n",
            "9226    exc\n",
            "7426    exc\n",
            "Name: emotion, Length: 8079, dtype: object\n",
            "Label count by class: \n",
            "\n",
            "(array(['ang', 'dis', 'exc', 'fea', 'fru', 'hap', 'neu', 'oth', 'sad',\n",
            "       'sur', 'xxx'], dtype=object), array([ 872,    1,  889,   29, 1675,  431, 1308,    3,  881,   81, 1909]))\n",
            "After one-hot encoding: \n",
            "\n",
            "3833    2\n",
            "8973    0\n",
            "994     6\n",
            "5324    0\n",
            "8403    0\n",
            "       ..\n",
            "9172    8\n",
            "8558    5\n",
            "7465    2\n",
            "9226    2\n",
            "7426    2\n",
            "Name: emotion, Length: 8079, dtype: int64\n",
            "Label count by class: \n",
            "\n",
            "(array([ 0,  1,  2,  3,  4,  5,  6,  7,  8,  9, 10]), array([ 872,    1,  889,   29, 1675,  431, 1308,    3,  881,   81, 1909]))\n"
          ]
        }
      ]
    },
    {
      "cell_type": "markdown",
      "source": [
        "## ALBERT"
      ],
      "metadata": {
        "id": "mGBwyKDxgZLg"
      }
    },
    {
      "cell_type": "code",
      "source": [
        "# input\n",
        "input_ids = Input(shape=(maxlen,), dtype=tf.int32, name=\"input_ids\")\n",
        "input_mask = Input(shape=(maxlen,), dtype=tf.int32, name=\"attention_mask\")\n",
        "# pretrained \n",
        "embeddings = albert([input_ids, input_mask])[0] #(0 is the last hidden layer, 1 means pooler output)\n",
        "# last layers and output\n",
        "out = tf.keras.layers.GlobalMaxPool1D()(embeddings)\n",
        "out = Dense(128, activation='relu')(out)\n",
        "out = tf.keras.layers.Dropout(0.1)(out)\n",
        "out = Dense(32, activation = 'relu')(out)\n",
        "y = Dense(11, activation = 'Softmax')(out)\n",
        "\n",
        "model = tf.keras.Model(inputs=[input_ids, input_mask], outputs = y)\n",
        "model.layers[2].trainable = True"
      ],
      "metadata": {
        "id": "Cmw67vM-CVJL"
      },
      "execution_count": 74,
      "outputs": []
    },
    {
      "cell_type": "code",
      "source": [
        "model.summary()"
      ],
      "metadata": {
        "colab": {
          "base_uri": "https://localhost:8080/"
        },
        "id": "r0tHOi8zCwx7",
        "outputId": "1d58e9bf-d5bb-4295-b067-d240d184ccf3"
      },
      "execution_count": 65,
      "outputs": [
        {
          "output_type": "stream",
          "name": "stdout",
          "text": [
            "Model: \"model_4\"\n",
            "__________________________________________________________________________________________________\n",
            " Layer (type)                   Output Shape         Param #     Connected to                     \n",
            "==================================================================================================\n",
            " input_ids (InputLayer)         [(None, 33)]         0           []                               \n",
            "                                                                                                  \n",
            " attention_mask (InputLayer)    [(None, 33)]         0           []                               \n",
            "                                                                                                  \n",
            " tf_albert_model (TFAlbertModel  TFBaseModelOutputWi  11683584   ['input_ids[0][0]',              \n",
            " )                              thPooling(last_hidd               'attention_mask[0][0]']         \n",
            "                                en_state=(None, 33,                                               \n",
            "                                 768),                                                            \n",
            "                                 pooler_output=(Non                                               \n",
            "                                e, 768),                                                          \n",
            "                                 hidden_states=None                                               \n",
            "                                , attentions=None)                                                \n",
            "                                                                                                  \n",
            " global_max_pooling1d_2 (Global  (None, 768)         0           ['tf_albert_model[4][0]']        \n",
            " MaxPooling1D)                                                                                    \n",
            "                                                                                                  \n",
            " dense_12 (Dense)               (None, 128)          98432       ['global_max_pooling1d_2[0][0]'] \n",
            "                                                                                                  \n",
            " dropout_8 (Dropout)            (None, 128)          0           ['dense_12[0][0]']               \n",
            "                                                                                                  \n",
            " dense_13 (Dense)               (None, 64)           8256        ['dropout_8[0][0]']              \n",
            "                                                                                                  \n",
            " dropout_9 (Dropout)            (None, 64)           0           ['dense_13[0][0]']               \n",
            "                                                                                                  \n",
            " dense_14 (Dense)               (None, 35)           2275        ['dropout_9[0][0]']              \n",
            "                                                                                                  \n",
            " dense_15 (Dense)               (None, 11)           396         ['dense_14[0][0]']               \n",
            "                                                                                                  \n",
            "==================================================================================================\n",
            "Total params: 11,792,943\n",
            "Trainable params: 11,792,943\n",
            "Non-trainable params: 0\n",
            "__________________________________________________________________________________________________\n"
          ]
        }
      ]
    },
    {
      "cell_type": "code",
      "source": [
        "tf.keras.utils.plot_model(model,show_shapes=True)"
      ],
      "metadata": {
        "colab": {
          "base_uri": "https://localhost:8080/",
          "height": 672
        },
        "id": "DQsrQhccC32Z",
        "outputId": "5cbfac7e-3630-416a-c8b4-7be547d85e83"
      },
      "execution_count": 75,
      "outputs": [
        {
          "output_type": "execute_result",
          "data": {
            "image/png": "[encoded data removed]",
            "text/plain": [
              "<IPython.core.display.Image object>"
            ]
          },
          "metadata": {},
          "execution_count": 75
        }
      ]
    },
    {
      "cell_type": "markdown",
      "source": [
        "### Model training"
      ],
      "metadata": {
        "id": "60kNMGQ-CaQX"
      }
    },
    {
      "cell_type": "code",
      "source": [
        "#function to plot train history\n",
        "def plot_history(model_history,keys):\n",
        "    m,val_m = keys\n",
        "    plt.plot(range(1, len(model_history.history[m])+1), model_history.history[m])\n",
        "    plt.plot(range(1, len(model_history.history[val_m])+1),model_history.history[val_m])\n",
        "    plt.ylabel(m)\n",
        "    plt.xlabel('epoch')\n",
        "    plt.legend(['train', 'validation'], loc='upper left')\n",
        "    plt.show()"
      ],
      "metadata": {
        "id": "672JZdYYgeRq"
      },
      "execution_count": 76,
      "outputs": []
    },
    {
      "cell_type": "markdown",
      "source": [
        "#### Training settings"
      ],
      "metadata": {
        "id": "THCU7pbIKVpZ"
      }
    },
    {
      "cell_type": "code",
      "source": [
        "optimizer=Adam(\n",
        "    learning_rate = 1e-05, # this learning rate is for bert model, taken from hugging face site\n",
        ")\n",
        "\n",
        "# set loss and metrics \n",
        "loss = 'categorical_crossentropy'#CategoricalCrossentropy(from_logits = True)\n",
        "metric = CategoricalAccuracy(name='balanced_accuracy',dtype='float32')\n",
        "f1 = tfa.metrics.F1Score(num_classes=11,average='macro')\n",
        "\n",
        "# compile the model\n",
        "model.compile(\n",
        "    optimizer = optimizer,\n",
        "    loss = loss,\n",
        "    metrics = [metric,f1]\n",
        ")"
      ],
      "metadata": {
        "id": "Gi2S95WtKX03"
      },
      "execution_count": 83,
      "outputs": []
    },
    {
      "cell_type": "markdown",
      "source": [
        "#### Training"
      ],
      "metadata": {
        "id": "QzYexgoJLZkw"
      }
    },
    {
      "cell_type": "code",
      "source": [
        "albert_history = model.fit(\n",
        "    x = {'input_ids': x_train_albert['input_ids'],'attention_mask':x_train_albert['attention_mask']},\n",
        "    y = to_categorical(y_train_albert),\n",
        "    validation_data = ({'input_ids':x_val_albert['input_ids'],'attention_mask':x_val_albert['attention_mask']}, to_categorical(y_val_albert)),\n",
        "    epochs=7, \n",
        "    batch_size=80,\n",
        "    callbacks = [tf.keras.callbacks.EarlyStopping(monitor='val_f1_score', patience=2, verbose=1, mode='max', restore_best_weights=True)]\n",
        ")"
      ],
      "metadata": {
        "colab": {
          "base_uri": "https://localhost:8080/"
        },
        "id": "N-oAkwvLLV3P",
        "outputId": "803a6389-fcc1-46c4-d3d9-4b8acd2fe900"
      },
      "execution_count": 84,
      "outputs": [
        {
          "output_type": "stream",
          "name": "stdout",
          "text": [
            "Epoch 1/7\n"
          ]
        },
        {
          "output_type": "stream",
          "name": "stderr",
          "text": [
            "WARNING:tensorflow:Gradients do not exist for variables ['tf_albert_model/albert/pooler/kernel:0', 'tf_albert_model/albert/pooler/bias:0'] when minimizing the loss. If you're using `model.compile()`, did you forget to provide a `loss` argument?\n",
            "WARNING:tensorflow:Gradients do not exist for variables ['tf_albert_model/albert/pooler/kernel:0', 'tf_albert_model/albert/pooler/bias:0'] when minimizing the loss. If you're using `model.compile()`, did you forget to provide a `loss` argument?\n",
            "WARNING:tensorflow:Gradients do not exist for variables ['tf_albert_model/albert/pooler/kernel:0', 'tf_albert_model/albert/pooler/bias:0'] when minimizing the loss. If you're using `model.compile()`, did you forget to provide a `loss` argument?\n",
            "WARNING:tensorflow:Gradients do not exist for variables ['tf_albert_model/albert/pooler/kernel:0', 'tf_albert_model/albert/pooler/bias:0'] when minimizing the loss. If you're using `model.compile()`, did you forget to provide a `loss` argument?\n"
          ]
        },
        {
          "output_type": "stream",
          "name": "stdout",
          "text": [
            "101/101 [==============================] - 79s 575ms/step - loss: 0.9344 - balanced_accuracy: 0.7143 - f1_score: 0.4602 - val_loss: 2.1543 - val_balanced_accuracy: 0.3794 - val_f1_score: 0.2313\n",
            "Epoch 2/7\n",
            "101/101 [==============================] - 54s 533ms/step - loss: 0.8304 - balanced_accuracy: 0.7515 - f1_score: 0.4930 - val_loss: 2.1809 - val_balanced_accuracy: 0.3824 - val_f1_score: 0.2309\n",
            "Epoch 3/7\n",
            "101/101 [==============================] - 54s 531ms/step - loss: 0.8060 - balanced_accuracy: 0.7542 - f1_score: 0.4883 - val_loss: 2.2391 - val_balanced_accuracy: 0.3864 - val_f1_score: 0.2337\n",
            "Epoch 4/7\n",
            "101/101 [==============================] - 54s 533ms/step - loss: 0.7358 - balanced_accuracy: 0.7797 - f1_score: 0.5292 - val_loss: 2.3289 - val_balanced_accuracy: 0.3714 - val_f1_score: 0.2451\n",
            "Epoch 5/7\n",
            "101/101 [==============================] - 54s 532ms/step - loss: 0.7225 - balanced_accuracy: 0.7788 - f1_score: 0.5243 - val_loss: 2.3714 - val_balanced_accuracy: 0.3554 - val_f1_score: 0.2120\n",
            "Epoch 6/7\n",
            "101/101 [==============================] - ETA: 0s - loss: 0.7726 - balanced_accuracy: 0.7611 - f1_score: 0.5001Restoring model weights from the end of the best epoch: 4.\n",
            "101/101 [==============================] - 53s 530ms/step - loss: 0.7726 - balanced_accuracy: 0.7611 - f1_score: 0.5001 - val_loss: 2.3014 - val_balanced_accuracy: 0.3774 - val_f1_score: 0.2283\n",
            "Epoch 6: early stopping\n"
          ]
        }
      ]
    },
    {
      "cell_type": "code",
      "source": [
        "plot_history(albert_history,['f1_score','val_f1_score'])"
      ],
      "metadata": {
        "colab": {
          "base_uri": "https://localhost:8080/",
          "height": 449
        },
        "id": "ZOGPtOFLWcMg",
        "outputId": "34d3db0a-8f4f-46c8-e92c-05001ec82ced"
      },
      "execution_count": 85,
      "outputs": [
        {
          "output_type": "display_data",
          "data": {
            "text/plain": [
              "<Figure size 640x480 with 1 Axes>"
            ],
            "image/png": "[encoded data removed]"
          },
          "metadata": {}
        }
      ]
    },
    {
      "cell_type": "markdown",
      "source": [
        "### Testing"
      ],
      "metadata": {
        "id": "A1AB3_ihSr4X"
      }
    },
    {
      "cell_type": "code",
      "source": [
        "y_pred_albert = model.predict({'input_ids':x_test_albert['input_ids'],'attention_mask':x_test_albert['attention_mask']})\n",
        "# convertion of the guessed label in integer labels\n",
        "y_pred_albert = np.argmax(y_pred_albert, axis = 1)\n",
        "\n",
        "f1_macro = f1_score(y_test_albert,y_pred_albert, average='macro')\n",
        "\n",
        "print(\"The final F1-score macro avg obtained on the test set is F1 = {}\".format(f1_macro))"
      ],
      "metadata": {
        "colab": {
          "base_uri": "https://localhost:8080/"
        },
        "id": "qOc46UnaS_jo",
        "outputId": "921f28da-3064-4977-fc93-5e8f22901b05"
      },
      "execution_count": 89,
      "outputs": [
        {
          "output_type": "stream",
          "name": "stdout",
          "text": [
            "32/32 [==============================] - 3s 82ms/step\n",
            "The final F1-score macro avg obtained on the test set is F1 = 0.31787804142646564\n"
          ]
        }
      ]
    },
    {
      "cell_type": "code",
      "source": [
        "print(classification_report(y_test_albert,y_pred_albert))"
      ],
      "metadata": {
        "colab": {
          "base_uri": "https://localhost:8080/"
        },
        "id": "ypp8pgudUt2U",
        "outputId": "c56f48da-54b8-48df-fced-5fe21c8e4dd7"
      },
      "execution_count": 90,
      "outputs": [
        {
          "output_type": "stream",
          "name": "stdout",
          "text": [
            "              precision    recall  f1-score   support\n",
            "\n",
            "           0       0.49      0.39      0.44       130\n",
            "           2       0.39      0.51      0.44       112\n",
            "           3       0.00      0.00      0.00         3\n",
            "           4       0.39      0.46      0.42       178\n",
            "           5       0.30      0.20      0.24        54\n",
            "           6       0.39      0.31      0.35       167\n",
            "           8       0.44      0.49      0.47       104\n",
            "           9       0.14      0.11      0.12         9\n",
            "          10       0.38      0.39      0.38       252\n",
            "\n",
            "    accuracy                           0.40      1009\n",
            "   macro avg       0.33      0.32      0.32      1009\n",
            "weighted avg       0.40      0.40      0.39      1009\n",
            "\n"
          ]
        },
        {
          "output_type": "stream",
          "name": "stderr",
          "text": [
            "/usr/local/lib/python3.9/dist-packages/sklearn/metrics/_classification.py:1344: UndefinedMetricWarning: Precision and F-score are ill-defined and being set to 0.0 in labels with no predicted samples. Use `zero_division` parameter to control this behavior.\n",
            "  _warn_prf(average, modifier, msg_start, len(result))\n",
            "/usr/local/lib/python3.9/dist-packages/sklearn/metrics/_classification.py:1344: UndefinedMetricWarning: Precision and F-score are ill-defined and being set to 0.0 in labels with no predicted samples. Use `zero_division` parameter to control this behavior.\n",
            "  _warn_prf(average, modifier, msg_start, len(result))\n",
            "/usr/local/lib/python3.9/dist-packages/sklearn/metrics/_classification.py:1344: UndefinedMetricWarning: Precision and F-score are ill-defined and being set to 0.0 in labels with no predicted samples. Use `zero_division` parameter to control this behavior.\n",
            "  _warn_prf(average, modifier, msg_start, len(result))\n"
          ]
        }
      ]
    },
    {
      "cell_type": "code",
      "source": [
        "from sklearn.metrics import accuracy_score\n",
        "accuracy_score(y_test_albert,y_pred_albert)"
      ],
      "metadata": {
        "colab": {
          "base_uri": "https://localhost:8080/"
        },
        "id": "gWV1Tn66YfTv",
        "outputId": "aa48c904-9a22-4e6a-d551-b2788befdc6a"
      },
      "execution_count": 91,
      "outputs": [
        {
          "output_type": "execute_result",
          "data": {
            "text/plain": [
              "0.398414271555996"
            ]
          },
          "metadata": {},
          "execution_count": 91
        }
      ]
    },
    {
      "cell_type": "markdown",
      "source": [
        "## Bi-LSTM"
      ],
      "metadata": {
        "id": "RagCm8KSWNjp"
      }
    },
    {
      "cell_type": "markdown",
      "source": [
        "### Tokenization"
      ],
      "metadata": {
        "id": "ZcRyL5ztZubt"
      }
    },
    {
      "cell_type": "code",
      "source": [
        "from tensorflow.keras.preprocessing.text import Tokenizer\n",
        "# creating tokenizer and fitting it on the training test\n",
        "tokenizer = Tokenizer(num_words = 10000, oov_token='')\n",
        "tokenizer.fit_on_texts(X)\n",
        "\n",
        "# printing a tokenization example\n",
        "print(\"## Before tokenization: \")\n",
        "print(X[0])\n",
        "print(\"## After tokenization: \")\n",
        "X_train_list = X_train.to_list()\n",
        "print(tokenizer.texts_to_sequences(X_train_list[0]))"
      ],
      "metadata": {
        "colab": {
          "base_uri": "https://localhost:8080/"
        },
        "id": "YMFGwGLoZxTF",
        "outputId": "5466f802-9539-44de-d271-2c5f26cf1077"
      },
      "execution_count": 47,
      "outputs": [
        {
          "output_type": "stream",
          "name": "stdout",
          "text": [
            "## Before tokenization: \n",
            "As a matter of fact, the real cause of that row was Peter Burden.\n",
            "## After tokenization: \n",
            "[[2], [], [678], [1058], [7], [1], [], [], [1476], [2133], [2], [1], [1], [], [7], [1567], [1475], [329], [1476], [], [1476], [2133], [2], [292], [], [], [2], [], [1], [1], [1475], [1], [], [1], [1475], [329], [1], [2047], [1058], [], [1], [1475], [1476], [], [2], [1], [1476], [1058], [2047], [1058], [292], [1476], [1058], [415], [], [1567], [329], [1476], [], [2521], [329], [292], [1476], [], [1476], [2133], [2], [1], [1], [], [7], [1567], [1475], [329], [1476], [], [1476], [2133], [2], [292], [], [1551], [1475], [2047], [], [7], [], [678], [2], [1], [329], [1476], [1058], []]\n"
          ]
        }
      ]
    },
    {
      "cell_type": "code",
      "source": [
        "\n",
        "model = tf.keras.models.Sequential([\n",
        "        tf.keras.layers.Embedding(4000, 16, input_length=maxlen),\n",
        "        tf.keras.layers.Bidirectional(tf.keras.layers.LSTM(20, return_sequences=True)),\n",
        "        tf.keras.layers.Bidirectional(tf.keras.layers.LSTM(20)),\n",
        "        tf.keras.layers.Dense(7,activation='Softmax')\n",
        "        \n",
        "])\n",
        "\n",
        "f1 = tfa.metrics.F1Score(num_classes=7,average='macro')\n",
        "accuracy = 'accuracy'\n",
        "\n",
        "model.compile(\n",
        "    loss = 'categorical_crossentropy',\n",
        "    optimizer = Adam(learning_rate=10e-3),\n",
        "    metrics = [accuracy,f1]\n",
        ")"
      ],
      "metadata": {
        "id": "dFMqiLTGWSMP"
      },
      "execution_count": null,
      "outputs": []
    },
    {
      "cell_type": "code",
      "source": [
        "model.summary()"
      ],
      "metadata": {
        "id": "as_Ik-H9ZCZ3"
      },
      "execution_count": null,
      "outputs": []
    },
    {
      "cell_type": "code",
      "source": [
        "plot_model(model)"
      ],
      "metadata": {
        "id": "cPDVCePRZE2n"
      },
      "execution_count": null,
      "outputs": []
    },
    {
      "cell_type": "code",
      "source": [
        "bilstm_history = model.fit(\n",
        "    padded_train_seq, to_categorical(y_train_litemodel),\n",
        "    validation_data=(padded_val_seq, to_categorical(y_val_litemodel)),\n",
        "    epochs =8,\n",
        "    callbacks=[tf.keras.callbacks.EarlyStopping(monitor='val_f1_score', patience=3, verbose=1, mode='max', restore_best_weights=True)],\n",
        "    batch_size=70\n",
        ")"
      ],
      "metadata": {
        "id": "zrLYdjNjZG8t"
      },
      "execution_count": null,
      "outputs": []
    }
  ],
  "metadata": {
    "kernelspec": {
      "display_name": "Python 3",
      "language": "python",
      "name": "python3"
    },
    "language_info": {
      "codemirror_mode": {
        "name": "ipython",
        "version": 2
      },
      "file_extension": ".py",
      "mimetype": "text/x-python",
      "name": "python",
      "nbconvert_exporter": "python",
      "pygments_lexer": "ipython2",
      "version": "2.7.6"
    },
    "colab": {
      "provenance": [],
      "toc_visible": true
    },
    "accelerator": "GPU",
    "gpuClass": "standard",
    "widgets": {
      "application/vnd.jupyter.widget-state+json": {
        "d96d1ea49512482f87c1701699186ae5": {
          "model_module": "@jupyter-widgets/controls",
          "model_name": "HBoxModel",
          "model_module_version": "1.5.0",
          "state": {
            "_dom_classes": [],
            "_model_module": "@jupyter-widgets/controls",
            "_model_module_version": "1.5.0",
            "_model_name": "HBoxModel",
            "_view_count": null,
            "_view_module": "@jupyter-widgets/controls",
            "_view_module_version": "1.5.0",
            "_view_name": "HBoxView",
            "box_style": "",
            "children": [
              "IPY_MODEL_d88b286e682e4f879ea5f9e88f158683",
              "IPY_MODEL_8e290001bb4641329d57d5afde9c3309",
              "IPY_MODEL_00c9effb2da843b8a2469c5c83309148"
            ],
            "layout": "IPY_MODEL_5f830c6bda4e433fbc995e829a4fba58"
          }
        },
        "d88b286e682e4f879ea5f9e88f158683": {
          "model_module": "@jupyter-widgets/controls",
          "model_name": "HTMLModel",
          "model_module_version": "1.5.0",
          "state": {
            "_dom_classes": [],
            "_model_module": "@jupyter-widgets/controls",
            "_model_module_version": "1.5.0",
            "_model_name": "HTMLModel",
            "_view_count": null,
            "_view_module": "@jupyter-widgets/controls",
            "_view_module_version": "1.5.0",
            "_view_name": "HTMLView",
            "description": "",
            "description_tooltip": null,
            "layout": "IPY_MODEL_bae4095f18924c1597b8689fb627bc71",
            "placeholder": "​",
            "style": "IPY_MODEL_e45b5769f85849e08cf54df9c131974b",
            "value": "Downloading (…)ve/main/spiece.model: 100%"
          }
        },
        "8e290001bb4641329d57d5afde9c3309": {
          "model_module": "@jupyter-widgets/controls",
          "model_name": "FloatProgressModel",
          "model_module_version": "1.5.0",
          "state": {
            "_dom_classes": [],
            "_model_module": "@jupyter-widgets/controls",
            "_model_module_version": "1.5.0",
            "_model_name": "FloatProgressModel",
            "_view_count": null,
            "_view_module": "@jupyter-widgets/controls",
            "_view_module_version": "1.5.0",
            "_view_name": "ProgressView",
            "bar_style": "success",
            "description": "",
            "description_tooltip": null,
            "layout": "IPY_MODEL_b372f45f46784c678a3868b74dec16ac",
            "max": 760289,
            "min": 0,
            "orientation": "horizontal",
            "style": "IPY_MODEL_6f466ff09c5349fcb0dec140eb9ecc02",
            "value": 760289
          }
        },
        "00c9effb2da843b8a2469c5c83309148": {
          "model_module": "@jupyter-widgets/controls",
          "model_name": "HTMLModel",
          "model_module_version": "1.5.0",
          "state": {
            "_dom_classes": [],
            "_model_module": "@jupyter-widgets/controls",
            "_model_module_version": "1.5.0",
            "_model_name": "HTMLModel",
            "_view_count": null,
            "_view_module": "@jupyter-widgets/controls",
            "_view_module_version": "1.5.0",
            "_view_name": "HTMLView",
            "description": "",
            "description_tooltip": null,
            "layout": "IPY_MODEL_c2f09ce1b7824867b5bec3ee8e008892",
            "placeholder": "​",
            "style": "IPY_MODEL_e23546a7870245828db44707cea06e8b",
            "value": " 760k/760k [00:00&lt;00:00, 15.8MB/s]"
          }
        },
        "5f830c6bda4e433fbc995e829a4fba58": {
          "model_module": "@jupyter-widgets/base",
          "model_name": "LayoutModel",
          "model_module_version": "1.2.0",
          "state": {
            "_model_module": "@jupyter-widgets/base",
            "_model_module_version": "1.2.0",
            "_model_name": "LayoutModel",
            "_view_count": null,
            "_view_module": "@jupyter-widgets/base",
            "_view_module_version": "1.2.0",
            "_view_name": "LayoutView",
            "align_content": null,
            "align_items": null,
            "align_self": null,
            "border": null,
            "bottom": null,
            "display": null,
            "flex": null,
            "flex_flow": null,
            "grid_area": null,
            "grid_auto_columns": null,
            "grid_auto_flow": null,
            "grid_auto_rows": null,
            "grid_column": null,
            "grid_gap": null,
            "grid_row": null,
            "grid_template_areas": null,
            "grid_template_columns": null,
            "grid_template_rows": null,
            "height": null,
            "justify_content": null,
            "justify_items": null,
            "left": null,
            "margin": null,
            "max_height": null,
            "max_width": null,
            "min_height": null,
            "min_width": null,
            "object_fit": null,
            "object_position": null,
            "order": null,
            "overflow": null,
            "overflow_x": null,
            "overflow_y": null,
            "padding": null,
            "right": null,
            "top": null,
            "visibility": null,
            "width": null
          }
        },
        "bae4095f18924c1597b8689fb627bc71": {
          "model_module": "@jupyter-widgets/base",
          "model_name": "LayoutModel",
          "model_module_version": "1.2.0",
          "state": {
            "_model_module": "@jupyter-widgets/base",
            "_model_module_version": "1.2.0",
            "_model_name": "LayoutModel",
            "_view_count": null,
            "_view_module": "@jupyter-widgets/base",
            "_view_module_version": "1.2.0",
            "_view_name": "LayoutView",
            "align_content": null,
            "align_items": null,
            "align_self": null,
            "border": null,
            "bottom": null,
            "display": null,
            "flex": null,
            "flex_flow": null,
            "grid_area": null,
            "grid_auto_columns": null,
            "grid_auto_flow": null,
            "grid_auto_rows": null,
            "grid_column": null,
            "grid_gap": null,
            "grid_row": null,
            "grid_template_areas": null,
            "grid_template_columns": null,
            "grid_template_rows": null,
            "height": null,
            "justify_content": null,
            "justify_items": null,
            "left": null,
            "margin": null,
            "max_height": null,
            "max_width": null,
            "min_height": null,
            "min_width": null,
            "object_fit": null,
            "object_position": null,
            "order": null,
            "overflow": null,
            "overflow_x": null,
            "overflow_y": null,
            "padding": null,
            "right": null,
            "top": null,
            "visibility": null,
            "width": null
          }
        },
        "e45b5769f85849e08cf54df9c131974b": {
          "model_module": "@jupyter-widgets/controls",
          "model_name": "DescriptionStyleModel",
          "model_module_version": "1.5.0",
          "state": {
            "_model_module": "@jupyter-widgets/controls",
            "_model_module_version": "1.5.0",
            "_model_name": "DescriptionStyleModel",
            "_view_count": null,
            "_view_module": "@jupyter-widgets/base",
            "_view_module_version": "1.2.0",
            "_view_name": "StyleView",
            "description_width": ""
          }
        },
        "b372f45f46784c678a3868b74dec16ac": {
          "model_module": "@jupyter-widgets/base",
          "model_name": "LayoutModel",
          "model_module_version": "1.2.0",
          "state": {
            "_model_module": "@jupyter-widgets/base",
            "_model_module_version": "1.2.0",
            "_model_name": "LayoutModel",
            "_view_count": null,
            "_view_module": "@jupyter-widgets/base",
            "_view_module_version": "1.2.0",
            "_view_name": "LayoutView",
            "align_content": null,
            "align_items": null,
            "align_self": null,
            "border": null,
            "bottom": null,
            "display": null,
            "flex": null,
            "flex_flow": null,
            "grid_area": null,
            "grid_auto_columns": null,
            "grid_auto_flow": null,
            "grid_auto_rows": null,
            "grid_column": null,
            "grid_gap": null,
            "grid_row": null,
            "grid_template_areas": null,
            "grid_template_columns": null,
            "grid_template_rows": null,
            "height": null,
            "justify_content": null,
            "justify_items": null,
            "left": null,
            "margin": null,
            "max_height": null,
            "max_width": null,
            "min_height": null,
            "min_width": null,
            "object_fit": null,
            "object_position": null,
            "order": null,
            "overflow": null,
            "overflow_x": null,
            "overflow_y": null,
            "padding": null,
            "right": null,
            "top": null,
            "visibility": null,
            "width": null
          }
        },
        "6f466ff09c5349fcb0dec140eb9ecc02": {
          "model_module": "@jupyter-widgets/controls",
          "model_name": "ProgressStyleModel",
          "model_module_version": "1.5.0",
          "state": {
            "_model_module": "@jupyter-widgets/controls",
            "_model_module_version": "1.5.0",
            "_model_name": "ProgressStyleModel",
            "_view_count": null,
            "_view_module": "@jupyter-widgets/base",
            "_view_module_version": "1.2.0",
            "_view_name": "StyleView",
            "bar_color": null,
            "description_width": ""
          }
        },
        "c2f09ce1b7824867b5bec3ee8e008892": {
          "model_module": "@jupyter-widgets/base",
          "model_name": "LayoutModel",
          "model_module_version": "1.2.0",
          "state": {
            "_model_module": "@jupyter-widgets/base",
            "_model_module_version": "1.2.0",
            "_model_name": "LayoutModel",
            "_view_count": null,
            "_view_module": "@jupyter-widgets/base",
            "_view_module_version": "1.2.0",
            "_view_name": "LayoutView",
            "align_content": null,
            "align_items": null,
            "align_self": null,
            "border": null,
            "bottom": null,
            "display": null,
            "flex": null,
            "flex_flow": null,
            "grid_area": null,
            "grid_auto_columns": null,
            "grid_auto_flow": null,
            "grid_auto_rows": null,
            "grid_column": null,
            "grid_gap": null,
            "grid_row": null,
            "grid_template_areas": null,
            "grid_template_columns": null,
            "grid_template_rows": null,
            "height": null,
            "justify_content": null,
            "justify_items": null,
            "left": null,
            "margin": null,
            "max_height": null,
            "max_width": null,
            "min_height": null,
            "min_width": null,
            "object_fit": null,
            "object_position": null,
            "order": null,
            "overflow": null,
            "overflow_x": null,
            "overflow_y": null,
            "padding": null,
            "right": null,
            "top": null,
            "visibility": null,
            "width": null
          }
        },
        "e23546a7870245828db44707cea06e8b": {
          "model_module": "@jupyter-widgets/controls",
          "model_name": "DescriptionStyleModel",
          "model_module_version": "1.5.0",
          "state": {
            "_model_module": "@jupyter-widgets/controls",
            "_model_module_version": "1.5.0",
            "_model_name": "DescriptionStyleModel",
            "_view_count": null,
            "_view_module": "@jupyter-widgets/base",
            "_view_module_version": "1.2.0",
            "_view_name": "StyleView",
            "description_width": ""
          }
        },
        "d53579d2a53d460a80f3f6df20636fc1": {
          "model_module": "@jupyter-widgets/controls",
          "model_name": "HBoxModel",
          "model_module_version": "1.5.0",
          "state": {
            "_dom_classes": [],
            "_model_module": "@jupyter-widgets/controls",
            "_model_module_version": "1.5.0",
            "_model_name": "HBoxModel",
            "_view_count": null,
            "_view_module": "@jupyter-widgets/controls",
            "_view_module_version": "1.5.0",
            "_view_name": "HBoxView",
            "box_style": "",
            "children": [
              "IPY_MODEL_2cf0f4aaa4974ee0a965e478ade4a09e",
              "IPY_MODEL_641ff5761641475aba250f3955c3c0e9",
              "IPY_MODEL_33d3331f86e046f8ab49fc65c198e980"
            ],
            "layout": "IPY_MODEL_8d494b07482b4fd7823588f0386b072e"
          }
        },
        "2cf0f4aaa4974ee0a965e478ade4a09e": {
          "model_module": "@jupyter-widgets/controls",
          "model_name": "HTMLModel",
          "model_module_version": "1.5.0",
          "state": {
            "_dom_classes": [],
            "_model_module": "@jupyter-widgets/controls",
            "_model_module_version": "1.5.0",
            "_model_name": "HTMLModel",
            "_view_count": null,
            "_view_module": "@jupyter-widgets/controls",
            "_view_module_version": "1.5.0",
            "_view_name": "HTMLView",
            "description": "",
            "description_tooltip": null,
            "layout": "IPY_MODEL_77179d2852a74fae9a6c02eef1ce2191",
            "placeholder": "​",
            "style": "IPY_MODEL_dd8aa60391be4a299067e4f0d8a5842c",
            "value": "Downloading (…)lve/main/config.json: 100%"
          }
        },
        "641ff5761641475aba250f3955c3c0e9": {
          "model_module": "@jupyter-widgets/controls",
          "model_name": "FloatProgressModel",
          "model_module_version": "1.5.0",
          "state": {
            "_dom_classes": [],
            "_model_module": "@jupyter-widgets/controls",
            "_model_module_version": "1.5.0",
            "_model_name": "FloatProgressModel",
            "_view_count": null,
            "_view_module": "@jupyter-widgets/controls",
            "_view_module_version": "1.5.0",
            "_view_name": "ProgressView",
            "bar_style": "success",
            "description": "",
            "description_tooltip": null,
            "layout": "IPY_MODEL_9773e9461e1e4fbe9f9445ed51a3e9ce",
            "max": 684,
            "min": 0,
            "orientation": "horizontal",
            "style": "IPY_MODEL_e103c899e7e4432f8c8c4faaeb957563",
            "value": 684
          }
        },
        "33d3331f86e046f8ab49fc65c198e980": {
          "model_module": "@jupyter-widgets/controls",
          "model_name": "HTMLModel",
          "model_module_version": "1.5.0",
          "state": {
            "_dom_classes": [],
            "_model_module": "@jupyter-widgets/controls",
            "_model_module_version": "1.5.0",
            "_model_name": "HTMLModel",
            "_view_count": null,
            "_view_module": "@jupyter-widgets/controls",
            "_view_module_version": "1.5.0",
            "_view_name": "HTMLView",
            "description": "",
            "description_tooltip": null,
            "layout": "IPY_MODEL_959c2be923f5492dab9af5172eb2841c",
            "placeholder": "​",
            "style": "IPY_MODEL_0b2bc7b6285f4a8fa0a012ad933d5f13",
            "value": " 684/684 [00:00&lt;00:00, 28.9kB/s]"
          }
        },
        "8d494b07482b4fd7823588f0386b072e": {
          "model_module": "@jupyter-widgets/base",
          "model_name": "LayoutModel",
          "model_module_version": "1.2.0",
          "state": {
            "_model_module": "@jupyter-widgets/base",
            "_model_module_version": "1.2.0",
            "_model_name": "LayoutModel",
            "_view_count": null,
            "_view_module": "@jupyter-widgets/base",
            "_view_module_version": "1.2.0",
            "_view_name": "LayoutView",
            "align_content": null,
            "align_items": null,
            "align_self": null,
            "border": null,
            "bottom": null,
            "display": null,
            "flex": null,
            "flex_flow": null,
            "grid_area": null,
            "grid_auto_columns": null,
            "grid_auto_flow": null,
            "grid_auto_rows": null,
            "grid_column": null,
            "grid_gap": null,
            "grid_row": null,
            "grid_template_areas": null,
            "grid_template_columns": null,
            "grid_template_rows": null,
            "height": null,
            "justify_content": null,
            "justify_items": null,
            "left": null,
            "margin": null,
            "max_height": null,
            "max_width": null,
            "min_height": null,
            "min_width": null,
            "object_fit": null,
            "object_position": null,
            "order": null,
            "overflow": null,
            "overflow_x": null,
            "overflow_y": null,
            "padding": null,
            "right": null,
            "top": null,
            "visibility": null,
            "width": null
          }
        },
        "77179d2852a74fae9a6c02eef1ce2191": {
          "model_module": "@jupyter-widgets/base",
          "model_name": "LayoutModel",
          "model_module_version": "1.2.0",
          "state": {
            "_model_module": "@jupyter-widgets/base",
            "_model_module_version": "1.2.0",
            "_model_name": "LayoutModel",
            "_view_count": null,
            "_view_module": "@jupyter-widgets/base",
            "_view_module_version": "1.2.0",
            "_view_name": "LayoutView",
            "align_content": null,
            "align_items": null,
            "align_self": null,
            "border": null,
            "bottom": null,
            "display": null,
            "flex": null,
            "flex_flow": null,
            "grid_area": null,
            "grid_auto_columns": null,
            "grid_auto_flow": null,
            "grid_auto_rows": null,
            "grid_column": null,
            "grid_gap": null,
            "grid_row": null,
            "grid_template_areas": null,
            "grid_template_columns": null,
            "grid_template_rows": null,
            "height": null,
            "justify_content": null,
            "justify_items": null,
            "left": null,
            "margin": null,
            "max_height": null,
            "max_width": null,
            "min_height": null,
            "min_width": null,
            "object_fit": null,
            "object_position": null,
            "order": null,
            "overflow": null,
            "overflow_x": null,
            "overflow_y": null,
            "padding": null,
            "right": null,
            "top": null,
            "visibility": null,
            "width": null
          }
        },
        "dd8aa60391be4a299067e4f0d8a5842c": {
          "model_module": "@jupyter-widgets/controls",
          "model_name": "DescriptionStyleModel",
          "model_module_version": "1.5.0",
          "state": {
            "_model_module": "@jupyter-widgets/controls",
            "_model_module_version": "1.5.0",
            "_model_name": "DescriptionStyleModel",
            "_view_count": null,
            "_view_module": "@jupyter-widgets/base",
            "_view_module_version": "1.2.0",
            "_view_name": "StyleView",
            "description_width": ""
          }
        },
        "9773e9461e1e4fbe9f9445ed51a3e9ce": {
          "model_module": "@jupyter-widgets/base",
          "model_name": "LayoutModel",
          "model_module_version": "1.2.0",
          "state": {
            "_model_module": "@jupyter-widgets/base",
            "_model_module_version": "1.2.0",
            "_model_name": "LayoutModel",
            "_view_count": null,
            "_view_module": "@jupyter-widgets/base",
            "_view_module_version": "1.2.0",
            "_view_name": "LayoutView",
            "align_content": null,
            "align_items": null,
            "align_self": null,
            "border": null,
            "bottom": null,
            "display": null,
            "flex": null,
            "flex_flow": null,
            "grid_area": null,
            "grid_auto_columns": null,
            "grid_auto_flow": null,
            "grid_auto_rows": null,
            "grid_column": null,
            "grid_gap": null,
            "grid_row": null,
            "grid_template_areas": null,
            "grid_template_columns": null,
            "grid_template_rows": null,
            "height": null,
            "justify_content": null,
            "justify_items": null,
            "left": null,
            "margin": null,
            "max_height": null,
            "max_width": null,
            "min_height": null,
            "min_width": null,
            "object_fit": null,
            "object_position": null,
            "order": null,
            "overflow": null,
            "overflow_x": null,
            "overflow_y": null,
            "padding": null,
            "right": null,
            "top": null,
            "visibility": null,
            "width": null
          }
        },
        "e103c899e7e4432f8c8c4faaeb957563": {
          "model_module": "@jupyter-widgets/controls",
          "model_name": "ProgressStyleModel",
          "model_module_version": "1.5.0",
          "state": {
            "_model_module": "@jupyter-widgets/controls",
            "_model_module_version": "1.5.0",
            "_model_name": "ProgressStyleModel",
            "_view_count": null,
            "_view_module": "@jupyter-widgets/base",
            "_view_module_version": "1.2.0",
            "_view_name": "StyleView",
            "bar_color": null,
            "description_width": ""
          }
        },
        "959c2be923f5492dab9af5172eb2841c": {
          "model_module": "@jupyter-widgets/base",
          "model_name": "LayoutModel",
          "model_module_version": "1.2.0",
          "state": {
            "_model_module": "@jupyter-widgets/base",
            "_model_module_version": "1.2.0",
            "_model_name": "LayoutModel",
            "_view_count": null,
            "_view_module": "@jupyter-widgets/base",
            "_view_module_version": "1.2.0",
            "_view_name": "LayoutView",
            "align_content": null,
            "align_items": null,
            "align_self": null,
            "border": null,
            "bottom": null,
            "display": null,
            "flex": null,
            "flex_flow": null,
            "grid_area": null,
            "grid_auto_columns": null,
            "grid_auto_flow": null,
            "grid_auto_rows": null,
            "grid_column": null,
            "grid_gap": null,
            "grid_row": null,
            "grid_template_areas": null,
            "grid_template_columns": null,
            "grid_template_rows": null,
            "height": null,
            "justify_content": null,
            "justify_items": null,
            "left": null,
            "margin": null,
            "max_height": null,
            "max_width": null,
            "min_height": null,
            "min_width": null,
            "object_fit": null,
            "object_position": null,
            "order": null,
            "overflow": null,
            "overflow_x": null,
            "overflow_y": null,
            "padding": null,
            "right": null,
            "top": null,
            "visibility": null,
            "width": null
          }
        },
        "0b2bc7b6285f4a8fa0a012ad933d5f13": {
          "model_module": "@jupyter-widgets/controls",
          "model_name": "DescriptionStyleModel",
          "model_module_version": "1.5.0",
          "state": {
            "_model_module": "@jupyter-widgets/controls",
            "_model_module_version": "1.5.0",
            "_model_name": "DescriptionStyleModel",
            "_view_count": null,
            "_view_module": "@jupyter-widgets/base",
            "_view_module_version": "1.2.0",
            "_view_name": "StyleView",
            "description_width": ""
          }
        },
        "06363cc9503143acbe4a9222d366ebd6": {
          "model_module": "@jupyter-widgets/controls",
          "model_name": "HBoxModel",
          "model_module_version": "1.5.0",
          "state": {
            "_dom_classes": [],
            "_model_module": "@jupyter-widgets/controls",
            "_model_module_version": "1.5.0",
            "_model_name": "HBoxModel",
            "_view_count": null,
            "_view_module": "@jupyter-widgets/controls",
            "_view_module_version": "1.5.0",
            "_view_name": "HBoxView",
            "box_style": "",
            "children": [
              "IPY_MODEL_e57d2bc1c0af4dffbd502d4e8de2e4f4",
              "IPY_MODEL_ebb78bee78794c6daa55ab3bc9b6300f",
              "IPY_MODEL_a267b017eebb4eed91726d0b7cd5c846"
            ],
            "layout": "IPY_MODEL_addd186eb7804af7b48a080c0436000a"
          }
        },
        "e57d2bc1c0af4dffbd502d4e8de2e4f4": {
          "model_module": "@jupyter-widgets/controls",
          "model_name": "HTMLModel",
          "model_module_version": "1.5.0",
          "state": {
            "_dom_classes": [],
            "_model_module": "@jupyter-widgets/controls",
            "_model_module_version": "1.5.0",
            "_model_name": "HTMLModel",
            "_view_count": null,
            "_view_module": "@jupyter-widgets/controls",
            "_view_module_version": "1.5.0",
            "_view_name": "HTMLView",
            "description": "",
            "description_tooltip": null,
            "layout": "IPY_MODEL_d619cebf0d764d63ac2a78ba01b50c5b",
            "placeholder": "​",
            "style": "IPY_MODEL_b63daa99588b4474b411bb9733b9db0f",
            "value": "Downloading tf_model.h5: 100%"
          }
        },
        "ebb78bee78794c6daa55ab3bc9b6300f": {
          "model_module": "@jupyter-widgets/controls",
          "model_name": "FloatProgressModel",
          "model_module_version": "1.5.0",
          "state": {
            "_dom_classes": [],
            "_model_module": "@jupyter-widgets/controls",
            "_model_module_version": "1.5.0",
            "_model_name": "FloatProgressModel",
            "_view_count": null,
            "_view_module": "@jupyter-widgets/controls",
            "_view_module_version": "1.5.0",
            "_view_name": "ProgressView",
            "bar_style": "success",
            "description": "",
            "description_tooltip": null,
            "layout": "IPY_MODEL_4b8c46f17a8b44bebd85b7c623e38910",
            "max": 63048440,
            "min": 0,
            "orientation": "horizontal",
            "style": "IPY_MODEL_90350fcc7fa846c5a9d597a58507ff9d",
            "value": 63048440
          }
        },
        "a267b017eebb4eed91726d0b7cd5c846": {
          "model_module": "@jupyter-widgets/controls",
          "model_name": "HTMLModel",
          "model_module_version": "1.5.0",
          "state": {
            "_dom_classes": [],
            "_model_module": "@jupyter-widgets/controls",
            "_model_module_version": "1.5.0",
            "_model_name": "HTMLModel",
            "_view_count": null,
            "_view_module": "@jupyter-widgets/controls",
            "_view_module_version": "1.5.0",
            "_view_name": "HTMLView",
            "description": "",
            "description_tooltip": null,
            "layout": "IPY_MODEL_203d9802de0445499b0818e2ea087e16",
            "placeholder": "​",
            "style": "IPY_MODEL_69f78f8801b14c2698681c1bf0358841",
            "value": " 63.0M/63.0M [00:00&lt;00:00, 72.8MB/s]"
          }
        },
        "addd186eb7804af7b48a080c0436000a": {
          "model_module": "@jupyter-widgets/base",
          "model_name": "LayoutModel",
          "model_module_version": "1.2.0",
          "state": {
            "_model_module": "@jupyter-widgets/base",
            "_model_module_version": "1.2.0",
            "_model_name": "LayoutModel",
            "_view_count": null,
            "_view_module": "@jupyter-widgets/base",
            "_view_module_version": "1.2.0",
            "_view_name": "LayoutView",
            "align_content": null,
            "align_items": null,
            "align_self": null,
            "border": null,
            "bottom": null,
            "display": null,
            "flex": null,
            "flex_flow": null,
            "grid_area": null,
            "grid_auto_columns": null,
            "grid_auto_flow": null,
            "grid_auto_rows": null,
            "grid_column": null,
            "grid_gap": null,
            "grid_row": null,
            "grid_template_areas": null,
            "grid_template_columns": null,
            "grid_template_rows": null,
            "height": null,
            "justify_content": null,
            "justify_items": null,
            "left": null,
            "margin": null,
            "max_height": null,
            "max_width": null,
            "min_height": null,
            "min_width": null,
            "object_fit": null,
            "object_position": null,
            "order": null,
            "overflow": null,
            "overflow_x": null,
            "overflow_y": null,
            "padding": null,
            "right": null,
            "top": null,
            "visibility": null,
            "width": null
          }
        },
        "d619cebf0d764d63ac2a78ba01b50c5b": {
          "model_module": "@jupyter-widgets/base",
          "model_name": "LayoutModel",
          "model_module_version": "1.2.0",
          "state": {
            "_model_module": "@jupyter-widgets/base",
            "_model_module_version": "1.2.0",
            "_model_name": "LayoutModel",
            "_view_count": null,
            "_view_module": "@jupyter-widgets/base",
            "_view_module_version": "1.2.0",
            "_view_name": "LayoutView",
            "align_content": null,
            "align_items": null,
            "align_self": null,
            "border": null,
            "bottom": null,
            "display": null,
            "flex": null,
            "flex_flow": null,
            "grid_area": null,
            "grid_auto_columns": null,
            "grid_auto_flow": null,
            "grid_auto_rows": null,
            "grid_column": null,
            "grid_gap": null,
            "grid_row": null,
            "grid_template_areas": null,
            "grid_template_columns": null,
            "grid_template_rows": null,
            "height": null,
            "justify_content": null,
            "justify_items": null,
            "left": null,
            "margin": null,
            "max_height": null,
            "max_width": null,
            "min_height": null,
            "min_width": null,
            "object_fit": null,
            "object_position": null,
            "order": null,
            "overflow": null,
            "overflow_x": null,
            "overflow_y": null,
            "padding": null,
            "right": null,
            "top": null,
            "visibility": null,
            "width": null
          }
        },
        "b63daa99588b4474b411bb9733b9db0f": {
          "model_module": "@jupyter-widgets/controls",
          "model_name": "DescriptionStyleModel",
          "model_module_version": "1.5.0",
          "state": {
            "_model_module": "@jupyter-widgets/controls",
            "_model_module_version": "1.5.0",
            "_model_name": "DescriptionStyleModel",
            "_view_count": null,
            "_view_module": "@jupyter-widgets/base",
            "_view_module_version": "1.2.0",
            "_view_name": "StyleView",
            "description_width": ""
          }
        },
        "4b8c46f17a8b44bebd85b7c623e38910": {
          "model_module": "@jupyter-widgets/base",
          "model_name": "LayoutModel",
          "model_module_version": "1.2.0",
          "state": {
            "_model_module": "@jupyter-widgets/base",
            "_model_module_version": "1.2.0",
            "_model_name": "LayoutModel",
            "_view_count": null,
            "_view_module": "@jupyter-widgets/base",
            "_view_module_version": "1.2.0",
            "_view_name": "LayoutView",
            "align_content": null,
            "align_items": null,
            "align_self": null,
            "border": null,
            "bottom": null,
            "display": null,
            "flex": null,
            "flex_flow": null,
            "grid_area": null,
            "grid_auto_columns": null,
            "grid_auto_flow": null,
            "grid_auto_rows": null,
            "grid_column": null,
            "grid_gap": null,
            "grid_row": null,
            "grid_template_areas": null,
            "grid_template_columns": null,
            "grid_template_rows": null,
            "height": null,
            "justify_content": null,
            "justify_items": null,
            "left": null,
            "margin": null,
            "max_height": null,
            "max_width": null,
            "min_height": null,
            "min_width": null,
            "object_fit": null,
            "object_position": null,
            "order": null,
            "overflow": null,
            "overflow_x": null,
            "overflow_y": null,
            "padding": null,
            "right": null,
            "top": null,
            "visibility": null,
            "width": null
          }
        },
        "90350fcc7fa846c5a9d597a58507ff9d": {
          "model_module": "@jupyter-widgets/controls",
          "model_name": "ProgressStyleModel",
          "model_module_version": "1.5.0",
          "state": {
            "_model_module": "@jupyter-widgets/controls",
            "_model_module_version": "1.5.0",
            "_model_name": "ProgressStyleModel",
            "_view_count": null,
            "_view_module": "@jupyter-widgets/base",
            "_view_module_version": "1.2.0",
            "_view_name": "StyleView",
            "bar_color": null,
            "description_width": ""
          }
        },
        "203d9802de0445499b0818e2ea087e16": {
          "model_module": "@jupyter-widgets/base",
          "model_name": "LayoutModel",
          "model_module_version": "1.2.0",
          "state": {
            "_model_module": "@jupyter-widgets/base",
            "_model_module_version": "1.2.0",
            "_model_name": "LayoutModel",
            "_view_count": null,
            "_view_module": "@jupyter-widgets/base",
            "_view_module_version": "1.2.0",
            "_view_name": "LayoutView",
            "align_content": null,
            "align_items": null,
            "align_self": null,
            "border": null,
            "bottom": null,
            "display": null,
            "flex": null,
            "flex_flow": null,
            "grid_area": null,
            "grid_auto_columns": null,
            "grid_auto_flow": null,
            "grid_auto_rows": null,
            "grid_column": null,
            "grid_gap": null,
            "grid_row": null,
            "grid_template_areas": null,
            "grid_template_columns": null,
            "grid_template_rows": null,
            "height": null,
            "justify_content": null,
            "justify_items": null,
            "left": null,
            "margin": null,
            "max_height": null,
            "max_width": null,
            "min_height": null,
            "min_width": null,
            "object_fit": null,
            "object_position": null,
            "order": null,
            "overflow": null,
            "overflow_x": null,
            "overflow_y": null,
            "padding": null,
            "right": null,
            "top": null,
            "visibility": null,
            "width": null
          }
        },
        "69f78f8801b14c2698681c1bf0358841": {
          "model_module": "@jupyter-widgets/controls",
          "model_name": "DescriptionStyleModel",
          "model_module_version": "1.5.0",
          "state": {
            "_model_module": "@jupyter-widgets/controls",
            "_model_module_version": "1.5.0",
            "_model_name": "DescriptionStyleModel",
            "_view_count": null,
            "_view_module": "@jupyter-widgets/base",
            "_view_module_version": "1.2.0",
            "_view_name": "StyleView",
            "description_width": ""
          }
        }
      }
    }
  },
  "nbformat": 4,
  "nbformat_minor": 0
}