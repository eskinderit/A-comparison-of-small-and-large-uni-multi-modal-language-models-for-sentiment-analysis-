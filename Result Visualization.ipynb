{
 "cells": [
  {
   "cell_type": "markdown",
   "id": "f8dcd4ff-6d0f-4221-bfe2-1c369d1a15bb",
   "metadata": {},
   "source": [
    "# Benchmark Results Visualization"
   ]
  },
  {
   "cell_type": "markdown",
   "id": "a5897b4b-47ed-4f1f-9039-e12cf3e67a4e",
   "metadata": {},
   "source": [
    "## Text models Performance, depending on Conversation Length"
   ]
  },
  {
   "cell_type": "code",
   "execution_count": 1,
   "id": "1928e022-2bc8-436f-87fc-f109d87bc5cd",
   "metadata": {},
   "outputs": [
    {
     "ename": "ValueError",
     "evalue": "invalid literal for int() with base 10: 'size 406\\n'",
     "output_type": "error",
     "traceback": [
      "\u001b[1;31m---------------------------------------------------------------------------\u001b[0m",
      "\u001b[1;31mValueError\u001b[0m                                Traceback (most recent call last)",
      "Cell \u001b[1;32mIn[1], line 38\u001b[0m\n\u001b[0;32m     34\u001b[0m     \u001b[38;5;28;01mdef\u001b[39;00m \u001b[38;5;21m__str__\u001b[39m(\u001b[38;5;28mself\u001b[39m):\n\u001b[0;32m     35\u001b[0m         \u001b[38;5;28;01mreturn\u001b[39;00m \u001b[38;5;28mstr\u001b[39m(\u001b[38;5;28mvars\u001b[39m(res))\n\u001b[1;32m---> 38\u001b[0m albert_results \u001b[38;5;241m=\u001b[39m [Results(train_log_url \u001b[38;5;241m=\u001b[39m \u001b[38;5;124mf\u001b[39m\u001b[38;5;124m'\u001b[39m\u001b[38;5;124m./results/text/ALBERT/logs/log_conv\u001b[39m\u001b[38;5;132;01m{\u001b[39;00mi\u001b[38;5;132;01m}\u001b[39;00m\u001b[38;5;124m_TextTransformer_s42.txt\u001b[39m\u001b[38;5;124m'\u001b[39m,\n\u001b[0;32m     39\u001b[0m     eval_log_url\u001b[38;5;241m=\u001b[39m\u001b[38;5;124mf\u001b[39m\u001b[38;5;124m'\u001b[39m\u001b[38;5;124m./results/text/ALBERT/logs/log_conv\u001b[39m\u001b[38;5;132;01m{\u001b[39;00mi\u001b[38;5;132;01m}\u001b[39;00m\u001b[38;5;124m_TextTransformer_s42_results.txt\u001b[39m\u001b[38;5;124m'\u001b[39m) \u001b[38;5;28;01mfor\u001b[39;00m i \u001b[38;5;129;01min\u001b[39;00m \u001b[38;5;28mrange\u001b[39m(\u001b[38;5;241m1\u001b[39m,\u001b[38;5;241m5\u001b[39m)]\n\u001b[0;32m     41\u001b[0m text_bilstm_results \u001b[38;5;241m=\u001b[39m [Results(train_log_url \u001b[38;5;241m=\u001b[39m \u001b[38;5;124mf\u001b[39m\u001b[38;5;124m'\u001b[39m\u001b[38;5;124m./results/text/BiLSTM/logs/log_conv\u001b[39m\u001b[38;5;132;01m{\u001b[39;00mi\u001b[38;5;132;01m}\u001b[39;00m\u001b[38;5;124m_SimpleTextModel_s42.txt\u001b[39m\u001b[38;5;124m'\u001b[39m,\n\u001b[0;32m     42\u001b[0m     eval_log_url\u001b[38;5;241m=\u001b[39m\u001b[38;5;124mf\u001b[39m\u001b[38;5;124m'\u001b[39m\u001b[38;5;124m./results/text/BiLSTM/logs/log_conv\u001b[39m\u001b[38;5;132;01m{\u001b[39;00mi\u001b[38;5;132;01m}\u001b[39;00m\u001b[38;5;124m_SimpleTextModel_s42_results.txt\u001b[39m\u001b[38;5;124m'\u001b[39m) \u001b[38;5;28;01mfor\u001b[39;00m i \u001b[38;5;129;01min\u001b[39;00m \u001b[38;5;28mrange\u001b[39m(\u001b[38;5;241m1\u001b[39m,\u001b[38;5;241m5\u001b[39m)]\n",
      "Cell \u001b[1;32mIn[1], line 38\u001b[0m, in \u001b[0;36m<listcomp>\u001b[1;34m(.0)\u001b[0m\n\u001b[0;32m     34\u001b[0m     \u001b[38;5;28;01mdef\u001b[39;00m \u001b[38;5;21m__str__\u001b[39m(\u001b[38;5;28mself\u001b[39m):\n\u001b[0;32m     35\u001b[0m         \u001b[38;5;28;01mreturn\u001b[39;00m \u001b[38;5;28mstr\u001b[39m(\u001b[38;5;28mvars\u001b[39m(res))\n\u001b[1;32m---> 38\u001b[0m albert_results \u001b[38;5;241m=\u001b[39m [\u001b[43mResults\u001b[49m\u001b[43m(\u001b[49m\u001b[43mtrain_log_url\u001b[49m\u001b[43m \u001b[49m\u001b[38;5;241;43m=\u001b[39;49m\u001b[43m \u001b[49m\u001b[38;5;124;43mf\u001b[39;49m\u001b[38;5;124;43m'\u001b[39;49m\u001b[38;5;124;43m./results/text/ALBERT/logs/log_conv\u001b[39;49m\u001b[38;5;132;43;01m{\u001b[39;49;00m\u001b[43mi\u001b[49m\u001b[38;5;132;43;01m}\u001b[39;49;00m\u001b[38;5;124;43m_TextTransformer_s42.txt\u001b[39;49m\u001b[38;5;124;43m'\u001b[39;49m\u001b[43m,\u001b[49m\n\u001b[0;32m     39\u001b[0m \u001b[43m    \u001b[49m\u001b[43meval_log_url\u001b[49m\u001b[38;5;241;43m=\u001b[39;49m\u001b[38;5;124;43mf\u001b[39;49m\u001b[38;5;124;43m'\u001b[39;49m\u001b[38;5;124;43m./results/text/ALBERT/logs/log_conv\u001b[39;49m\u001b[38;5;132;43;01m{\u001b[39;49;00m\u001b[43mi\u001b[49m\u001b[38;5;132;43;01m}\u001b[39;49;00m\u001b[38;5;124;43m_TextTransformer_s42_results.txt\u001b[39;49m\u001b[38;5;124;43m'\u001b[39;49m\u001b[43m)\u001b[49m \u001b[38;5;28;01mfor\u001b[39;00m i \u001b[38;5;129;01min\u001b[39;00m \u001b[38;5;28mrange\u001b[39m(\u001b[38;5;241m1\u001b[39m,\u001b[38;5;241m5\u001b[39m)]\n\u001b[0;32m     41\u001b[0m text_bilstm_results \u001b[38;5;241m=\u001b[39m [Results(train_log_url \u001b[38;5;241m=\u001b[39m \u001b[38;5;124mf\u001b[39m\u001b[38;5;124m'\u001b[39m\u001b[38;5;124m./results/text/BiLSTM/logs/log_conv\u001b[39m\u001b[38;5;132;01m{\u001b[39;00mi\u001b[38;5;132;01m}\u001b[39;00m\u001b[38;5;124m_SimpleTextModel_s42.txt\u001b[39m\u001b[38;5;124m'\u001b[39m,\n\u001b[0;32m     42\u001b[0m     eval_log_url\u001b[38;5;241m=\u001b[39m\u001b[38;5;124mf\u001b[39m\u001b[38;5;124m'\u001b[39m\u001b[38;5;124m./results/text/BiLSTM/logs/log_conv\u001b[39m\u001b[38;5;132;01m{\u001b[39;00mi\u001b[38;5;132;01m}\u001b[39;00m\u001b[38;5;124m_SimpleTextModel_s42_results.txt\u001b[39m\u001b[38;5;124m'\u001b[39m) \u001b[38;5;28;01mfor\u001b[39;00m i \u001b[38;5;129;01min\u001b[39;00m \u001b[38;5;28mrange\u001b[39m(\u001b[38;5;241m1\u001b[39m,\u001b[38;5;241m5\u001b[39m)]\n",
      "Cell \u001b[1;32mIn[1], line 15\u001b[0m, in \u001b[0;36mResults.__init__\u001b[1;34m(self, train_log_url, eval_log_url)\u001b[0m\n\u001b[0;32m     13\u001b[0m lines \u001b[38;5;241m=\u001b[39m f\u001b[38;5;241m.\u001b[39mreadlines()\n\u001b[0;32m     14\u001b[0m \u001b[38;5;28mself\u001b[39m\u001b[38;5;241m.\u001b[39moptimizer \u001b[38;5;241m=\u001b[39m lines[\u001b[38;5;241m0\u001b[39m]\n\u001b[1;32m---> 15\u001b[0m \u001b[38;5;28mself\u001b[39m\u001b[38;5;241m.\u001b[39mbatch_size \u001b[38;5;241m=\u001b[39m \u001b[38;5;28;43mint\u001b[39;49m\u001b[43m(\u001b[49m\u001b[43mlines\u001b[49m\u001b[43m[\u001b[49m\u001b[38;5;241;43m2\u001b[39;49m\u001b[43m]\u001b[49m\u001b[43m)\u001b[49m\n\u001b[0;32m     16\u001b[0m \u001b[38;5;28mself\u001b[39m\u001b[38;5;241m.\u001b[39mconv_length \u001b[38;5;241m=\u001b[39m \u001b[38;5;28mint\u001b[39m(lines[\u001b[38;5;241m4\u001b[39m])\n\u001b[0;32m     17\u001b[0m \u001b[38;5;28mself\u001b[39m\u001b[38;5;241m.\u001b[39mtrain_accuracy \u001b[38;5;241m=\u001b[39m \u001b[38;5;28mfloat\u001b[39m(lines[\u001b[38;5;241m6\u001b[39m])\n",
      "\u001b[1;31mValueError\u001b[0m: invalid literal for int() with base 10: 'size 406\\n'"
     ]
    }
   ],
   "source": [
    "# importing libraries\n",
    "import numpy as np\n",
    "import matplotlib.pyplot as plt\n",
    "\n",
    "# reading logs data\n",
    "\n",
    "class Results:\n",
    "    \n",
    "    def __init__(self, train_log_url, eval_log_url):\n",
    "\n",
    "        # importing train log data\n",
    "        with open(train_log_url) as f:\n",
    "            lines = f.readlines()\n",
    "            self.optimizer = lines[0]\n",
    "            self.batch_size = int(lines[2])\n",
    "            self.conv_length = int(lines[4])\n",
    "            self.train_accuracy = float(lines[6])\n",
    "            self.train_f1_weighted = float(lines[8])\n",
    "            self.val_accuracy = float(lines[10])\n",
    "            self.val_f1_weighted = float(lines[12])\n",
    "            self.train_time = float(lines[14])\n",
    "\n",
    "        # importing evalusation data\n",
    "        with open(eval_log_url) as f:\n",
    "            lines = f.readlines()\n",
    "            self.val_f1_all = np.array(lines[1].replace('[','').replace(']','').split()).astype(float) \n",
    "            self.val_f1_macro = float(lines[3].strip())\n",
    "            self.val_f1_weighted = float(lines[5].strip())\n",
    "            self.test_f1_all = np.array(lines[7].replace('[','').replace(']','').split()).astype(float)\n",
    "            self.test_f1_macro = float(lines[9].strip())\n",
    "            self.test_f1_weighted = float(lines[11].strip())\n",
    "            self.test_prediction_time = float(lines[13].strip())\n",
    "    \n",
    "    def __str__(self):\n",
    "        return str(vars(res))\n",
    "\n",
    "\n",
    "albert_results = [Results(train_log_url = f'./results/text/ALBERT/logs/log_conv{i}_TextTransformer_s42.txt',\n",
    "    eval_log_url=f'./results/text/ALBERT/logs/log_conv{i}_TextTransformer_s42_results.txt') for i in range(1,5)]\n",
    "\n",
    "text_bilstm_results = [Results(train_log_url = f'./results/text/BiLSTM/logs/log_conv{i}_SimpleTextModel_s42.txt',\n",
    "    eval_log_url=f'./results/text/BiLSTM/logs/log_conv{i}_SimpleTextModel_s42_results.txt') for i in range(1,5)]"
   ]
  },
  {
   "cell_type": "markdown",
   "id": "877980f1-010b-4409-8ca7-3017674f6954",
   "metadata": {},
   "source": [
    "### F1"
   ]
  },
  {
   "cell_type": "code",
   "execution_count": 2,
   "id": "27c51fb9-2f6d-49f4-8c67-aa4ca2f3133e",
   "metadata": {},
   "outputs": [
    {
     "ename": "NameError",
     "evalue": "name 'albert_results' is not defined",
     "output_type": "error",
     "traceback": [
      "\u001b[1;31m---------------------------------------------------------------------------\u001b[0m",
      "\u001b[1;31mNameError\u001b[0m                                 Traceback (most recent call last)",
      "Cell \u001b[1;32mIn[2], line 4\u001b[0m\n\u001b[0;32m      1\u001b[0m \u001b[38;5;66;03m## f1 values by class\u001b[39;00m\n\u001b[0;32m      2\u001b[0m \u001b[38;5;66;03m# are these the ones we are considering?\u001b[39;00m\n\u001b[0;32m      3\u001b[0m label2id \u001b[38;5;241m=\u001b[39m [\u001b[38;5;124m'\u001b[39m\u001b[38;5;124mneu\u001b[39m\u001b[38;5;124m'\u001b[39m, \u001b[38;5;124m'\u001b[39m\u001b[38;5;124mfru\u001b[39m\u001b[38;5;124m'\u001b[39m, \u001b[38;5;124m'\u001b[39m\u001b[38;5;124mang\u001b[39m\u001b[38;5;124m'\u001b[39m, \u001b[38;5;124m'\u001b[39m\u001b[38;5;124msad\u001b[39m\u001b[38;5;124m'\u001b[39m, \u001b[38;5;124m'\u001b[39m\u001b[38;5;124mhap\u001b[39m\u001b[38;5;124m'\u001b[39m, \u001b[38;5;124m'\u001b[39m\u001b[38;5;124mexc\u001b[39m\u001b[38;5;124m'\u001b[39m]\n\u001b[1;32m----> 4\u001b[0m albert_f1_byclass \u001b[38;5;241m=\u001b[39m \u001b[43malbert_results\u001b[49m[\u001b[38;5;241m3\u001b[39m]\u001b[38;5;241m.\u001b[39mtest_f1_all[:\u001b[38;5;241m6\u001b[39m]\n\u001b[0;32m      5\u001b[0m text_bilstm_f1_byclass \u001b[38;5;241m=\u001b[39m text_bilstm_results[\u001b[38;5;241m3\u001b[39m]\u001b[38;5;241m.\u001b[39mtest_f1_all[:\u001b[38;5;241m6\u001b[39m] \n\u001b[0;32m      8\u001b[0m X_axis \u001b[38;5;241m=\u001b[39m np\u001b[38;5;241m.\u001b[39marange(\u001b[38;5;28mlen\u001b[39m(label2id))\n",
      "\u001b[1;31mNameError\u001b[0m: name 'albert_results' is not defined"
     ]
    }
   ],
   "source": [
    "## f1 values by class\n",
    "# are these the ones we are considering?\n",
    "label2id = ['neu', 'fru', 'ang', 'sad', 'hap', 'exc']\n",
    "albert_f1_byclass = albert_results[3].test_f1_all[:6]\n",
    "text_bilstm_f1_byclass = text_bilstm_results[3].test_f1_all[:6] \n",
    "\n",
    "  \n",
    "X_axis = np.arange(len(label2id))\n",
    "  \n",
    "plt.bar(X_axis - 0.2, albert_f1_byclass, 0.4, label = 'ALBERT')\n",
    "plt.bar(X_axis + 0.2, text_bilstm_f1_byclass, 0.4, label = 'BiLSTM')\n",
    "  \n",
    "plt.xticks(X_axis, label2id)\n",
    "plt.xlabel(\"Emotions\")\n",
    "plt.ylabel(\"F1\")\n",
    "plt.title(\"F1 score by class\")\n",
    "plt.legend()\n",
    "plt.show()"
   ]
  },
  {
   "cell_type": "code",
   "execution_count": null,
   "id": "adc7356e-efef-4e5e-a228-c8e5e0be905f",
   "metadata": {},
   "outputs": [],
   "source": [
    "albert_f1_weighted_test = [i.test_f1_weighted for i in albert_results]\n",
    "text_bilstm_f1_weighted_test = [i.test_f1_weighted for i in text_bilstm_results]\n",
    "albert_f1_weighted_val = [i.val_f1_weighted for i in albert_results]\n",
    "text_bilstm_f1_weighted_val = [i.val_f1_weighted for i in text_bilstm_results]\n",
    "albert_convlen = [i.conv_length for i in albert_results]\n",
    "\n",
    "## F1 weighted depending on conversation length\n",
    "plt.plot(albert_convlen, albert_f1_weighted_test, label='ALBERT - test')\n",
    "plt.plot(albert_convlen, text_bilstm_f1_weighted_test , label='BiLSTM - test')\n",
    "plt.plot(albert_convlen, albert_f1_weighted_val, linestyle='--', label='ALBERT - val')\n",
    "plt.plot(albert_convlen, text_bilstm_f1_weighted_val, linestyle='--', label='BiLSTM - val')\n",
    "plt.ylabel('F1 weighted', fontsize=14)\n",
    "plt.xlabel('conversation length', fontsize=14)\n",
    "plt.title('F1 weighted of Text Models')\n",
    "plt.grid()\n",
    "plt.legend()\n",
    "plt.show()\n"
   ]
  },
  {
   "cell_type": "markdown",
   "id": "01ba2f49-707f-4fee-9081-25bbadd0612d",
   "metadata": {},
   "source": [
    "### Accuracy"
   ]
  },
  {
   "cell_type": "code",
   "execution_count": null,
   "id": "fc6dd3a7-5892-4440-b398-57e925993b23",
   "metadata": {},
   "outputs": [],
   "source": [
    "#albert_results_accuracy_test = [i.test_accuracy for i in albert_results]\n",
    "#text_bilstm_results_accuracy_test = [i.test_accuracy for i in text_bilstm_results]\n",
    "albert_accuracy_val = [i.val_accuracy for i in albert_results]\n",
    "text_bilstm_accuracy_val = [i.val_accuracy for i in text_bilstm_results]\n",
    "albert_results_convlen = [i.conv_length for i in albert_results]\n",
    "\n",
    "\n",
    "## accuracy depending on conversation length\n",
    "#plt.plot(albert_results_convlen, albert_results_accuracy_test, label='ALBERT - test')\n",
    "#plt.plot(albert_results_convlen, text_bilstm_results_accuracy_test , label='BiLSTM - test')\n",
    "plt.plot(albert_results_convlen, albert_accuracy_val, linestyle='--', label='ALBERT - val')\n",
    "plt.plot(albert_results_convlen, text_bilstm_accuracy_val, linestyle='--', label='BiLSTM - val')\n",
    "plt.ylabel('Accuracy', fontsize=14)\n",
    "plt.xlabel('conversation length', fontsize=14)\n",
    "plt.title('Accuracy of Text Models')\n",
    "plt.grid()\n",
    "plt.legend()\n",
    "plt.show()\n"
   ]
  },
  {
   "cell_type": "markdown",
   "id": "47a5e037-ca86-43de-a664-0eeb0047f5ff",
   "metadata": {},
   "source": [
    "### Training Time"
   ]
  },
  {
   "cell_type": "code",
   "execution_count": null,
   "id": "6da0a3cc-7e6d-41cd-8798-015473c78189",
   "metadata": {},
   "outputs": [],
   "source": [
    "# train time\n",
    "albert_train_time = [i.train_time for i in albert_results]\n",
    "text_bilstm_train_time = [i.train_time for i in text_bilstm_results]\n",
    "\n",
    "# prediction time\n",
    "albert_eval_time = [i.test_prediction_time for i in albert_results]\n",
    "text_bilstm_eval_time = [i.test_prediction_time for i in text_bilstm_results]\n",
    "\n",
    "albert_results_convlen = [i.conv_length for i in albert_results]\n",
    "\n",
    "## Elapsed time (s) depending on conversation length\n",
    "\n",
    "plt.plot(albert_results_convlen, albert_train_time, label='ALBERT')\n",
    "plt.plot(albert_results_convlen, text_bilstm_train_time, label='BiLSTM')\n",
    "plt.ylabel('Time (s)', fontsize=14)\n",
    "plt.xlabel('conversation length', fontsize=14)\n",
    "plt.title('Elapsed time for Train')\n",
    "plt.grid()\n",
    "plt.legend()\n",
    "plt.show()\n"
   ]
  },
  {
   "cell_type": "markdown",
   "id": "92753352-1319-4113-ad39-5656a6f8f759",
   "metadata": {},
   "source": [
    "### Inference Time"
   ]
  },
  {
   "cell_type": "code",
   "execution_count": null,
   "id": "b5385d48-f49f-4422-8fd5-3908b8ae6ecf",
   "metadata": {},
   "outputs": [],
   "source": [
    "plt.plot(albert_results_convlen, albert_eval_time, label='ALBERT')\n",
    "plt.plot(albert_results_convlen, text_bilstm_eval_time, label='BiLSTM')\n",
    "plt.ylabel('Time (s)', fontsize=14)\n",
    "plt.xlabel('conversation length', fontsize=14)\n",
    "plt.title('Elapsed time for Prediction')\n",
    "plt.grid()\n",
    "plt.legend()\n",
    "plt.show()"
   ]
  },
  {
   "cell_type": "markdown",
   "id": "fbd3ee81-f2c7-4123-b8d2-1fe8ee40a899",
   "metadata": {},
   "source": [
    "## Audio models Performance, depending on Conversation Length"
   ]
  },
  {
   "cell_type": "code",
   "execution_count": null,
   "id": "aa9ae753-8e13-4353-bdfb-3049227cb5a9",
   "metadata": {},
   "outputs": [],
   "source": [
    "## barplot con f1 per classe\n",
    "## f1 values by class\n",
    "# are these the ones we are considering?\n",
    "wav2vec_results = [Results(train_log_url = f'./results/audio/Wav2Vec/quantile_0.1/log_conv{i}_AudioTransformer_s42.txt',\n",
    "    eval_log_url=f'./results/audio/Wav2Vec/quantile_0.1/log_conv{i}_AudioTransformer_s42_results.txt') for i in range(1,4)]\n",
    "\n",
    "mfcc_results = [Results(train_log_url = f'./results/audio/LiteModel/mfcc/log/log_conv{i}_SimpleAudioModel_mfcc_s42.txt',\n",
    "    eval_log_url=f'./results/audio/LiteModel/mfcc/log/log_conv{i}_SimpleAudioModel_mfcc_s42_results.txt') for i in range(1,6)]\n",
    "\n",
    "rms_results = [Results(train_log_url = f'./results/audio/LiteModel/rms/log/log_conv{i}_SimpleAudioModel_rms_s42.txt',\n",
    "    eval_log_url=f'./results/audio/LiteModel/rms/log/log_conv{i}_SimpleAudioModel_rms_s42_results.txt') for i in range(1,6)]\n",
    "\n",
    "zcr_results = [Results(train_log_url = f'./results/audio/LiteModel/zcr/log/log_conv{i}_SimpleAudioModel_zcr_s42.txt',\n",
    "    eval_log_url=f'./results/audio/LiteModel/zcr/log/log_conv{i}_SimpleAudioModel_zcr_s42_results.txt') for i in range(1,6)]\n",
    "\n",
    "\n",
    "label2id = ['neu', 'fru', 'ang', 'sad', 'hap', 'exc']\n",
    "\n",
    "wav2vec_f1_byclass = wav2vec_results[2].test_f1_all[:6]\n",
    "mfcc_f1_byclass = mfcc_results[2].test_f1_all[:6]\n",
    "rms_f1_byclass = rms_results[2].test_f1_all[:6]\n",
    "zcr_f1_byclass = zcr_results[2].test_f1_all[:6]\n",
    "\n",
    "\n",
    "  \n",
    "X_axis = np.arange(len(label2id))\n",
    "  \n",
    "plt.bar(X_axis - 0.5, wav2vec_f1_byclass, 0.1, label = 'Wav2Vec')\n",
    "plt.bar(X_axis - 0.4, mfcc_f1_byclass, 0.1, label = 'MFCC')\n",
    "plt.bar(X_axis - 0.3, rms_f1_byclass, 0.1, label = 'RMS')\n",
    "plt.bar(X_axis - 0.2, zcr_f1_byclass, 0.1, label = 'RMS')\n",
    "  \n",
    "plt.xticks(X_axis, label2id)\n",
    "plt.xlabel(\"Emotions\")\n",
    "plt.ylabel(\"F1\")\n",
    "plt.title(\"F1 score by class\")\n",
    "plt.legend()\n",
    "plt.show()"
   ]
  },
  {
   "cell_type": "markdown",
   "id": "eff68258-5ddf-4419-bb02-840fa6d48a11",
   "metadata": {},
   "source": [
    "### Accuracy"
   ]
  },
  {
   "cell_type": "markdown",
   "id": "2edb6763-27c8-40df-a7d5-73fbeb19dfd9",
   "metadata": {},
   "source": [
    "### Training Time"
   ]
  },
  {
   "cell_type": "markdown",
   "id": "66791c20-86b8-4c54-96ca-42a1abbc136d",
   "metadata": {},
   "source": [
    "### Inference Time"
   ]
  },
  {
   "cell_type": "markdown",
   "id": "8ffe1bc6-a139-475d-8831-7f8d3897bcb4",
   "metadata": {},
   "source": [
    "### Wav2Vec Performance, depending on quantile"
   ]
  },
  {
   "cell_type": "code",
   "execution_count": null,
   "id": "0ccfcaee-594d-4375-a470-72f444efd38a",
   "metadata": {},
   "outputs": [],
   "source": [
    "wav2vec_convlen = [i.conv_length for i in wav2vec_results]\n",
    "wav2vec_f1_weighted_test = [i.test_f1_weighted for i in wav2vec_results]\n",
    "\n",
    "\n",
    "## F1 weighted depending on conversation length\n",
    "plt.plot(wav2vec_convlen, wav2vec_f1_weighted_test, label='ALBERT - test')\n",
    "#plt.plot(wav2vec_convlen, text_bilstm_f1_weighted_test , label='BiLSTM - test')\n",
    "#plt.plot(wav2vec_convlen, albert_f1_weighted_val, linestyle='--', label='ALBERT - val')\n",
    "#plt.plot(wav2vec_convlen, text_bilstm_f1_weighted_val, linestyle='--', label='BiLSTM - val')\n",
    "plt.ylabel('F1 weighted', fontsize=14)\n",
    "plt.xlabel('conversation length', fontsize=14)\n",
    "plt.title('F1 weighted of Text Models')\n",
    "plt.grid()\n",
    "plt.legend()\n",
    "plt.show()"
   ]
  },
  {
   "cell_type": "code",
   "execution_count": null,
   "id": "3eee2089-f386-45ff-a7f8-15a0e0f9dacf",
   "metadata": {},
   "outputs": [],
   "source": []
  }
 ],
 "metadata": {
  "kernelspec": {
   "display_name": "Python 3 (ipykernel)",
   "language": "python",
   "name": "python3"
  },
  "language_info": {
   "codemirror_mode": {
    "name": "ipython",
    "version": 3
   },
   "file_extension": ".py",
   "mimetype": "text/x-python",
   "name": "python",
   "nbconvert_exporter": "python",
   "pygments_lexer": "ipython3",
   "version": "3.8.16"
  }
 },
 "nbformat": 4,
 "nbformat_minor": 5
}
