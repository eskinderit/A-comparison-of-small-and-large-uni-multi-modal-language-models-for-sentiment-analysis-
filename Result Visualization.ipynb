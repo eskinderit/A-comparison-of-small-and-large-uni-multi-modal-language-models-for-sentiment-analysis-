{
 "cells": [
  {
   "cell_type": "markdown",
   "id": "f8dcd4ff-6d0f-4221-bfe2-1c369d1a15bb",
   "metadata": {},
   "source": [
    "# Benchmark Results Visualization"
   ]
  },
  {
   "cell_type": "markdown",
   "id": "a5897b4b-47ed-4f1f-9039-e12cf3e67a4e",
   "metadata": {},
   "source": [
    "## Text models Performance, depending on Conversation Length"
   ]
  },
  {
   "cell_type": "code",
   "execution_count": null,
   "id": "1928e022-2bc8-436f-87fc-f109d87bc5cd",
   "metadata": {},
   "outputs": [],
   "source": [
    "# importing libraries\n",
    "# reading logs data\n"
   ]
  },
  {
   "cell_type": "markdown",
   "id": "877980f1-010b-4409-8ca7-3017674f6954",
   "metadata": {},
   "source": [
    "### F1"
   ]
  },
  {
   "cell_type": "markdown",
   "id": "01ba2f49-707f-4fee-9081-25bbadd0612d",
   "metadata": {},
   "source": [
    "### Accuracy"
   ]
  },
  {
   "cell_type": "markdown",
   "id": "47a5e037-ca86-43de-a664-0eeb0047f5ff",
   "metadata": {},
   "source": [
    "### Training Time"
   ]
  },
  {
   "cell_type": "markdown",
   "id": "92753352-1319-4113-ad39-5656a6f8f759",
   "metadata": {},
   "source": [
    "### Inference Time"
   ]
  },
  {
   "cell_type": "markdown",
   "id": "fbd3ee81-f2c7-4123-b8d2-1fe8ee40a899",
   "metadata": {},
   "source": [
    "## Audio models Performance, depending on Conversation Length"
   ]
  },
  {
   "cell_type": "markdown",
   "id": "eff68258-5ddf-4419-bb02-840fa6d48a11",
   "metadata": {},
   "source": [
    "### Accuracy"
   ]
  },
  {
   "cell_type": "markdown",
   "id": "2edb6763-27c8-40df-a7d5-73fbeb19dfd9",
   "metadata": {},
   "source": [
    "### Training Time"
   ]
  },
  {
   "cell_type": "markdown",
   "id": "66791c20-86b8-4c54-96ca-42a1abbc136d",
   "metadata": {},
   "source": [
    "### Inference Time"
   ]
  },
  {
   "cell_type": "markdown",
   "id": "8ffe1bc6-a139-475d-8831-7f8d3897bcb4",
   "metadata": {},
   "source": [
    "### Wav2Vec Performance, depending on quantile"
   ]
  },
  {
   "cell_type": "code",
   "execution_count": null,
   "id": "0ccfcaee-594d-4375-a470-72f444efd38a",
   "metadata": {},
   "outputs": [],
   "source": []
  }
 ],
 "metadata": {
  "kernelspec": {
   "display_name": "Python 3 (ipykernel)",
   "language": "python",
   "name": "python3"
  },
  "language_info": {
   "codemirror_mode": {
    "name": "ipython",
    "version": 3
   },
   "file_extension": ".py",
   "mimetype": "text/x-python",
   "name": "python",
   "nbconvert_exporter": "python",
   "pygments_lexer": "ipython3",
   "version": "3.8.16"
  }
 },
 "nbformat": 4,
 "nbformat_minor": 5
}
