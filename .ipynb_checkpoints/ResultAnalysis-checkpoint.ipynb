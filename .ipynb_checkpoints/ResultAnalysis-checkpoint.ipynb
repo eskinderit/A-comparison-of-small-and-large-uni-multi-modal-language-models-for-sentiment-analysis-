{
 "cells": [
  {
   "cell_type": "markdown",
   "id": "ef5f925f",
   "metadata": {},
   "source": [
    "# Importing Libraries"
   ]
  },
  {
   "cell_type": "code",
   "execution_count": null,
   "id": "5a9dff0b-1dde-45e5-b808-1f4070736d75",
   "metadata": {},
   "outputs": [],
   "source": []
  },
  {
   "cell_type": "code",
   "execution_count": 1,
   "id": "366924d9",
   "metadata": {},
   "outputs": [],
   "source": [
    "# Uncomment the following block and run it AFTER creating a new conda environment:\n",
    "# a conda environment can be created as \n",
    "# conda create -n nlp_tools_2023 python=3.8\n",
    "# and activated as\n",
    "# conda activate nlp_tools_2023\n",
    "'''\n",
    "!pip install numpy\n",
    "!pip install pandas\n",
    "!pip install matplotlib\n",
    "!pip install plotly\n",
    "!pip install seaborn\n",
    "!pip install scikit-learn\n",
    "!pip install librosa\n",
    "!pip install tensorflow\n",
    "!pip install tqdm\n",
    "!pip install pytorch\n",
    "!pip install transformers\n",
    "'''\n",
    "\n",
    "# System Libraries\n",
    "import os\n",
    "import pickle\n",
    "import random\n",
    "import time\n",
    "\n",
    "# Loop libraries\n",
    "from tqdm import tqdm\n",
    "from itertools import product\n",
    "\n",
    "# Handling Data Libraries\n",
    "import pandas as pd\n",
    "import numpy as np\n",
    "\n",
    "# display libraries\n",
    "from IPython.display import Audio, clear_output\n",
    "\n",
    "# Plot Libraries\n",
    "import matplotlib.pyplot as plt\n",
    "from matplotlib import cm\n",
    "import plotly.express as px\n",
    "import seaborn as sns\n",
    "\n",
    "# librosa is a Python library for analyzing audio and music. It can be used to extract the data from the audio files.\n",
    "import librosa\n",
    "import librosa.display\n",
    "\n",
    "# text handling libraries\n",
    "import re\n",
    "\n",
    "# ML libraries\n",
    "from sklearn.preprocessing import StandardScaler, LabelBinarizer\n",
    "from sklearn.metrics import confusion_matrix, classification_report, f1_score, accuracy_score\n",
    "from sklearn.model_selection import train_test_split\n",
    "\n",
    "# DL libraries\n",
    "import tensorflow as tf\n",
    "import keras as ks\n",
    "\n",
    "# Test routine\n",
    "from test_model import *"
   ]
  },
  {
   "cell_type": "markdown",
   "id": "9dfa023f",
   "metadata": {},
   "source": [
    "# Importing Tensorflow models"
   ]
  },
  {
   "cell_type": "code",
   "execution_count": 2,
   "id": "329da97d",
   "metadata": {},
   "outputs": [
    {
     "name": "stdout",
     "output_type": "stream",
     "text": [
      "An error occurred: Inter op parallelism cannot be modified after initialization.\n",
      "conv1_TextTransformer_s42\n"
     ]
    }
   ],
   "source": [
    "label2id = {'neu': 0, 'fru': 1, 'ang': 2, 'sad': 3, 'hap': 4, 'exc': 5, 'dis': 6, 'fea': 7, 'oth': 8, 'sur': 9, 'xxx': 10}\n",
    "\n",
    "model, model_name, batch_size, train_data, val_data, test_data, em_train, em_val, em_test, ignore_emotions, val_distr, test_distr = build_model_and_dataset(weights_path = './Experiments NLP/text/conv_length/ALBERT/NLP_Models/conv1_TextTransformer_s42.h5',                                                    \n",
    "                                                                conv_length = 1,\n",
    "                                                                use_audio = False,\n",
    "                                                                use_text = True,\n",
    "                                                                use_text_transformers = True,\n",
    "                                                                use_audio_transformers = False,\n",
    "                                                                train = False,  \n",
    "                                                                label2id = label2id,\n",
    "                                                                verbose = False)"
   ]
  },
  {
   "cell_type": "code",
   "execution_count": 3,
   "id": "c72f5de0-80c9-453d-ab90-0b88ebee672a",
   "metadata": {},
   "outputs": [],
   "source": [
    "# VALIDATION EVALUATION\n",
    "f1s_metric = Masked_F1(len(label2id), mode='none', name='f1s', ignore_indexes=[label2id[emo] for emo in ignore_emotions])\n",
    "f1_macro = Masked_F1(len(label2id), mode='macro', name='f1_macro', ignore_indexes=[label2id[emo] for emo in ignore_emotions])\n",
    "val_f1_weighted_metric = Masked_F1(len(label2id), mode='weighted', name='val_f1_weighted', ignore_indexes=[label2id[emo] for emo in ignore_emotions], dataset_distribution=list(val_distr.values()))\n",
    "\n",
    "val_preds = model.predict(val_data, batch_size=batch_size, verbose=0)\n",
    "\n",
    "f1s_metric.update_state(em_val, val_preds)\n",
    "f1_macro.update_state(em_val, val_preds)\n",
    "val_f1_weighted_metric.update_state(em_val, val_preds)\n",
    "\n",
    "val_f1s = f1s_metric.result()\n",
    "val_f1_macro = f1_macro.result()\n",
    "val_f1_weighted = val_f1_weighted_metric.result()\n",
    "\n",
    "f1s_metric.reset_state()\n",
    "f1_macro.reset_state()\n",
    "val_f1_weighted_metric.reset_state()\n",
    "\n",
    "# TEST EVALUATION\n",
    "test_f1_weighted_metric = Masked_F1(len(label2id), mode='weighted', name='test_f1_weighted', ignore_indexes=[label2id[emo] for emo in ignore_emotions], dataset_distribution=list(test_distr.values()))\n",
    "\n",
    "start = time.time()\n",
    "test_preds = model.predict(test_data, batch_size=batch_size, verbose=0)\n",
    "end = time.time()\n",
    "\n",
    "f1s_metric.update_state(em_test, test_preds)\n",
    "f1_macro.update_state(em_test, test_preds)\n",
    "test_f1_weighted_metric.update_state(em_test, test_preds)\n",
    "\n",
    "test_f1s = f1s_metric.result()\n",
    "test_f1_macro = f1_macro.result()\n",
    "test_f1_weighted = test_f1_weighted_metric.result()\n",
    "\n",
    "f1s_metric.reset_state()\n",
    "f1_macro.reset_state()\n",
    "test_f1_weighted_metric.reset_state()\n",
    "\n",
    "#log_txt = '\\n'\n",
    "#log_txt += str(label2id)\n",
    "#log_txt += '\\n'\n",
    "log_txt = ''\n",
    "log_txt += 'Validation f1s:'\n",
    "log_txt += '\\n'\n",
    "log_txt += f'{val_f1s.numpy()}'\n",
    "log_txt += '\\n'\n",
    "log_txt += 'val f1 macro:' \n",
    "log_txt += '\\n'\n",
    "log_txt += f'{val_f1_macro}'\n",
    "log_txt += '\\n'\n",
    "log_txt += 'val f1 weighted:'\n",
    "log_txt += '\\n'\n",
    "log_txt += f'{val_f1_weighted}'\n",
    "log_txt += '\\n'\n",
    "log_txt += 'Test f1s:'\n",
    "log_txt += '\\n'\n",
    "log_txt += f'{test_f1s.numpy()}'\n",
    "log_txt += '\\n'\n",
    "log_txt += 'test f1 macro:'\n",
    "log_txt += '\\n'\n",
    "log_txt += f'{test_f1_macro}'\n",
    "log_txt += '\\n'\n",
    "log_txt += 'test f1 weighted:'\n",
    "log_txt += '\\n'\n",
    "log_txt += f'{test_f1_weighted}'\n",
    "log_txt += '\\n'\n",
    "log_txt += 'test prediction time'\n",
    "log_txt += f'{end - start}'\n",
    "\n",
    "\n",
    "log_file = open(f\"{model_name}_results.txt\", \"w\")\n",
    "log_file.write(log_txt)\n",
    "log_file.close()"
   ]
  },
  {
   "cell_type": "code",
   "execution_count": 4,
   "id": "542900e3-f497-490d-91b0-14b71910ee55",
   "metadata": {},
   "outputs": [
    {
     "name": "stdout",
     "output_type": "stream",
     "text": [
      "Validation f1s:\n",
      "[0.19301848 0.34571063 0.415      0.33608815 0.12283044 0.28505747\n",
      " 0.         0.         0.         0.         0.        ]\n",
      "val f1 macro:\n",
      "0.28295086228418026\n",
      "val f1 weighted:\n",
      "0.31460240907952575\n",
      "Test f1s:\n",
      "[0.31623932 0.25069638 0.28380634 0.37401575 0.1318408  0.24315068\n",
      " 0.         0.         0.         0.         0.        ]\n",
      "test f1 macro:\n",
      "0.26662487794996853\n",
      "test f1 weighted:\n",
      "0.27731441298947646\n",
      "test prediction time4492.895488023758\n"
     ]
    }
   ],
   "source": [
    "print(log_txt)"
   ]
  },
  {
   "cell_type": "code",
   "execution_count": null,
   "id": "c7e2fafe-fa6f-422c-84e8-b0a34f335fbc",
   "metadata": {},
   "outputs": [],
   "source": []
  }
 ],
 "metadata": {
  "kernelspec": {
   "display_name": "Python 3 (ipykernel)",
   "language": "python",
   "name": "python3"
  },
  "language_info": {
   "codemirror_mode": {
    "name": "ipython",
    "version": 3
   },
   "file_extension": ".py",
   "mimetype": "text/x-python",
   "name": "python",
   "nbconvert_exporter": "python",
   "pygments_lexer": "ipython3",
   "version": "3.8.16"
  }
 },
 "nbformat": 4,
 "nbformat_minor": 5
}
