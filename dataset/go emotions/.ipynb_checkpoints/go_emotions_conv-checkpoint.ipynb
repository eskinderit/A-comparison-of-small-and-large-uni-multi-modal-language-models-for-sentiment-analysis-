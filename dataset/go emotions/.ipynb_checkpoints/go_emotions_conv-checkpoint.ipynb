{
 "cells": [
  {
   "cell_type": "markdown",
   "id": "0b6e6c24-14ad-482c-a8a5-dc735042e144",
   "metadata": {},
   "source": [
    "# Go Emotions Dataset conversion (adding 'emotion' as cumulative sentiment column)"
   ]
  },
  {
   "cell_type": "code",
   "execution_count": 19,
   "id": "4448a002-0189-4060-b680-3f154ae5af65",
   "metadata": {},
   "outputs": [],
   "source": [
    "import pandas as pd\n",
    "\n",
    "# importing original dataset\n",
    "df = pd.read_csv('go_emotions_dataset.csv')\n",
    "\n",
    "# setting as prevalent emotion the one that has higher score (because of the voters)\n",
    "emotion = df.copy().drop(['id','text','example_very_unclear'], axis=1).idxmax(axis=1)\n",
    "\n",
    "# creating new column for emotion in original dataset\n",
    "df['emotion'] = emotion\n",
    "\n",
    "# exporting new dataset\n",
    "df.to_csv('go_emotion_dataset_sentimentcolumn.csv')"
   ]
  },
  {
   "cell_type": "code",
   "execution_count": null,
   "id": "c6ae6f2f-6205-4333-8f3c-d80bea0dcde1",
   "metadata": {},
   "outputs": [],
   "source": []
  }
 ],
 "metadata": {
  "kernelspec": {
   "display_name": "Python 3 (ipykernel)",
   "language": "python",
   "name": "python3"
  },
  "language_info": {
   "codemirror_mode": {
    "name": "ipython",
    "version": 3
   },
   "file_extension": ".py",
   "mimetype": "text/x-python",
   "name": "python",
   "nbconvert_exporter": "python",
   "pygments_lexer": "ipython3",
   "version": "3.8.12"
  }
 },
 "nbformat": 4,
 "nbformat_minor": 5
}
